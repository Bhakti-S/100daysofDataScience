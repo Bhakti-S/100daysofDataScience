{
  "nbformat": 4,
  "nbformat_minor": 0,
  "metadata": {
    "colab": {
      "name": "Gotta Catch Em All.ipynb",
      "provenance": [],
      "authorship_tag": "ABX9TyMeuAYjm/yD6UcYrqDNLV7C",
      "include_colab_link": true
    },
    "kernelspec": {
      "name": "python3",
      "display_name": "Python 3"
    }
  },
  "cells": [
    {
      "cell_type": "markdown",
      "metadata": {
        "id": "view-in-github",
        "colab_type": "text"
      },
      "source": [
        "<a href=\"https://colab.research.google.com/github/Bhakti-S/100daysofDataScience/blob/master/Gotta_Catch_Em_All.ipynb\" target=\"_parent\"><img src=\"https://colab.research.google.com/assets/colab-badge.svg\" alt=\"Open In Colab\"/></a>"
      ]
    },
    {
      "cell_type": "code",
      "metadata": {
        "id": "LsWDnHhAR9MP"
      },
      "source": [
        "#Task 1 - Load the Pokemon dataset\r\n",
        "import pandas as pd\r\n",
        "filepath = pokemon\r\n",
        "df = pd.read_csv(filepath)\r\n",
        "print(df)"
      ],
      "execution_count": null,
      "outputs": []
    },
    {
      "cell_type": "code",
      "metadata": {
        "id": "HFrfeboKSgnm"
      },
      "source": [
        "#Task 2 - Explore the dataset\r\n",
        "# Code starts here\r\n",
        "# head of the dataframe\r\n",
        "head = df.head(10)\r\n",
        "print('head ',head)\r\n",
        "# describe the dataframe\r\n",
        "\r\n",
        "describe = df.describe()\r\n",
        "print('describe ', describe)\r\n",
        "# shape of the dataframe\r\n",
        "shape = df.shape\r\n",
        "print(shape)\r\n",
        "\r\n",
        "# check for null values\r\n",
        "null = df.isnull().sum()\r\n",
        "\r\n",
        "print('null ', null)\r\n",
        "# check for unique values\r\n",
        "unique = df.nunique()\r\n",
        "print('unique ',unique)\r\n",
        "\r\n",
        "# code ends here"
      ],
      "execution_count": null,
      "outputs": []
    },
    {
      "cell_type": "code",
      "metadata": {
        "id": "AmrwxMuaSxZv"
      },
      "source": [
        "#Task 3 - Find total powers of Pokemon\r\n",
        "# Code starts here\r\n",
        "df['Total'] = df['HP']+df['Attack'] + df['Sp. Atk'] + df['Sp. Def']+ df['Speed'] + df['Defense']\r\n",
        "# Create new column\r\n",
        "print(df.shape)\r\n",
        "print(df['Total'])\r\n",
        "print(df['Total'][3])\r\n",
        "\r\n",
        "\r\n"
      ],
      "execution_count": null,
      "outputs": []
    },
    {
      "cell_type": "code",
      "metadata": {
        "id": "CXEcudDzSxUI"
      },
      "source": [
        "\r\n",
        "#Task 4 - Rename, drop and clean\r\n",
        "# Code starts here\r\n",
        "# Rename columns 'HP', 'Sp. Atk' and 'Sp. Def' as 'Health Points',\r\n",
        "# 'Attack speed points' and 'Defense speed points'\r\n",
        "df.rename(columns= \r\n",
        "{'HP':'Health Points', 'Sp. Atk': 'Attack speed points','Sp. Def':'Defense speed points'}, inplace = True)\r\n",
        "\r\n",
        "\r\n",
        "# Remove the '#' column permanently\r\n",
        "\r\n",
        "df.drop(['#'], axis=1, inplace = True)\r\n",
        "\r\n",
        "# Set index as names\r\n",
        "df.set_index('Name',inplace = True)\r\n",
        "\r\n",
        "# Look at the first 5 observations\r\n",
        "df.head(5)\r\n",
        "\r\n",
        "# Code ends here"
      ],
      "execution_count": null,
      "outputs": []
    },
    {
      "cell_type": "code",
      "metadata": {
        "id": "nx1In5aHSxLP"
      },
      "source": [
        "#Task 5 - Find out information of Pokemons based on `Type 2` attribute \r\n",
        "# Code starts here\r\n",
        "\r\n",
        "# Different variants of `Type 2`\r\n",
        "type_two = df['Type 2'].unique()\r\n",
        "print(type_two)\r\n",
        "\r\n",
        "# Total different types of `Type 2`\r\n",
        "type_two_num = df['Type 2'].nunique()\r\n",
        "print(type_two_num)\r\n",
        "\r\n",
        "# Counts for different types of `Type 2`\r\n",
        "counts_type_two = df['Type 2'].value_counts()\r\n",
        "print(counts_type_two)\r\n",
        "#df.groupby('Type 2').count()\r\n",
        "no_type_two = df['Type 2'].isnull().sum()\r\n",
        "# Number of Pokemons don't have `Type 2`\r\n",
        "#print(df['Type 2'==''].count())\r\n",
        "print(no_type_two)\r\n",
        "# Code ends here"
      ],
      "execution_count": null,
      "outputs": []
    },
    {
      "cell_type": "code",
      "metadata": {
        "id": "wpjBZe0LTG_8"
      },
      "source": [
        "#Task 6 - Find the pokemon with the highest points\r\n",
        "# Code starts here\r\n",
        "df['Legendary'].nunique()\r\n",
        "df['Legendary'].value_counts()\r\n",
        "print(len(df['Legendary']))\r\n",
        "\r\n",
        "print(df.head())\r\n",
        "print(df.columns)\r\n",
        "# Which pokemon has the highest 'Health Points'?\r\n",
        "healthiest_pokemon = df['Health Points'].idxmax()\r\n",
        "\r\n",
        "# Which pokemon has the highest Special Atack points?\r\n",
        "special_attack_pokemon = df['Attack speed points'].idxmax()\r\n",
        "\r\n",
        "# Which pokemon has the highest Special Defense points?\r\n",
        "\r\n",
        "special_defense_pokemon = df['Defense speed points'].idxmax()\r\n",
        "# Which pokemon has highest Speed?\r\n",
        "fastest_pokemon = df['Speed'].idxmax()\r\n",
        "\r\n",
        "print(healthiest_pokemon,' : healthiest_pokemon')\r\n",
        "print(special_attack_pokemon,' : special_attack_pokemon')\r\n",
        "print(special_defense_pokemon,' : special_defense_pokemon')\r\n",
        "print(fastest_pokemon,' : fastest_pokemon')\r\n",
        "# Code ends here"
      ],
      "execution_count": null,
      "outputs": []
    },
    {
      "cell_type": "code",
      "metadata": {
        "id": "pq5BSewkTG9T"
      },
      "source": [
        "#Task 7 - Answer questions using data\r\n",
        "# Drop row with Name as nan\r\n",
        "df = df[df.index.notnull()]\r\n",
        "# Code starts here\r\n",
        "# Find out which type of pokemons (use only `Type 1`) have the highest chances of being Legendary\r\n",
        "#df[df['Legendary']==True].groupby('Type 1')\r\n",
        "legendary_pokemon = df[df['Legendary']==True]\r\n",
        "legendary_pokemon['Type 1'].value_counts()\r\n",
        "highest_legendary = legendary_pokemon['Type 1'].value_counts().idxmax()\r\n",
        "print(highest_legendary,': type has highest chances of being legendary')\r\n",
        "# Pokemons which do not have 'Type 2' but are Legendary\r\n",
        "#legendary_pokemon[legendary_pokemon['Type 2'].isnull()]\r\n",
        "single_legendary_pokemon = legendary_pokemon[legendary_pokemon['Type 2'].isnull()==True]\r\n",
        "single_type_legendary= len(single_legendary_pokemon)\r\n",
        "print(single_type_legendary)\r\n"
      ],
      "execution_count": null,
      "outputs": []
    },
    {
      "cell_type": "code",
      "metadata": {
        "id": "Hta2sXAHTG6a"
      },
      "source": [
        "#Task 8 - Modify Pokemon names\r\n",
        "# Code starts here\r\n",
        "\r\n",
        "# Convert 'Name' to uppercase\r\n",
        "#df['Name'].index.str.lower()\r\n",
        "# Convert 'Type 1' to lowercase\r\n",
        "print(df.info())\r\n",
        "\r\n",
        "df.index = df.index.str.upper()\r\n",
        "#Wrong df['Type 1'].str.upper()\r\n",
        "def to_upper(x):\r\n",
        "    return (x.upper())\r\n",
        "\r\n",
        "def to_lower(x):\r\n",
        "    return(x.lower())\r\n",
        "df['Type 1'] = df['Type 1'].apply(lambda x:to_lower(x))\r\n",
        "df['Type 2'] = df['Type 2'].apply(lambda x:to_lower(x) if isinstance(x,str) else None)\r\n",
        "# Convert 'Type 2' to lowercase if present else \r\n",
        "print(df)\r\n"
      ],
      "execution_count": null,
      "outputs": []
    },
    {
      "cell_type": "code",
      "metadata": {
        "id": "NWMeF5FXTGwB"
      },
      "source": [
        "#Task 9 - Find the fastest type (`Type 1`) Pokemons\r\n",
        "import numpy as np\r\n",
        "# Code starts here\r\n",
        "df['Generation'].value_counts()\r\n",
        "# Determine which type (Type 1) pokemons are the fastest(Speed)\r\n",
        "#print(df.groupby(['Generation','Type 1']).groups)\r\n",
        "\r\n",
        "####CORRECT CODE TOO\r\n",
        "#fastest_type = (df.groupby(['Type 1'])[['Speed']].median().sort_values(by='Speed',ascending=False))\r\n",
        "#print(fastest_type.index[0])\r\n",
        "\r\n",
        "fastest_type1=(df.groupby(['Type 1'])[['Speed']].median().sort_values(by='Speed',ascending=False)).index[0]\r\n",
        "\r\n",
        "fastest_type = fastest_type1.lower()\r\n",
        "print(fastest_type)\r\n"
      ],
      "execution_count": null,
      "outputs": []
    },
    {
      "cell_type": "code",
      "metadata": {
        "id": "6do6-H1QTVtH"
      },
      "source": [
        "#Task 10 - Calculate mean value of attack speed points across generations and types \r\n",
        "# Code starts here\r\n",
        "\r\n",
        "# mean value of 'Attack speed points' according to 'Generation' and 'Type 1'\r\n",
        "#print(df.groupby(['Generation','Type 1']).agg({'Attack speed points':'mean'}))\r\n",
        "\r\n",
        "#print(pd.pivot_table(df, index=['Generation', 'Type 1'] ,values='Attack speed points', aggfunc= 'mean'))\r\n",
        "pivot = pd.pivot_table(df, index=['Type 1'], columns=['Generation'], values='Attack speed points')\r\n",
        "print(pivot)\r\n",
        "\r\n",
        "# Code ends here\r\n"
      ],
      "execution_count": null,
      "outputs": []
    },
    {
      "cell_type": "code",
      "metadata": {
        "id": "x7zcSHwRTVqi"
      },
      "source": [
        "#Task 11 - Combine data by merging dataframes\r\n",
        "# Input \r\n",
        "\r\n",
        "df1 = pd.DataFrame({'fruit': ['apple', 'banana', 'orange'] * 3,\r\n",
        "                    'weight': ['high', 'medium', 'low'] * 3,\r\n",
        "                    'price': np.random.randint(0, 15, 9)})\r\n",
        "\r\n",
        "df2 = pd.DataFrame({'product': ['apple', 'orange', 'pine'] * 2,\r\n",
        "                    'kilo': ['high', 'low'] * 3,\r\n",
        "                    'price': np.random.randint(0, 15, 6)})\r\n",
        "\r\n",
        "print(df1)\r\n",
        "print(df2)\r\n",
        "# Code starts here\r\n",
        "merged=pd.merge(left=df1, right=df2, left_on=['fruit', 'weight'], right_on=['product','kilo'],how='inner', suffixes=['_left','_right'])\r\n",
        "\r\n",
        "print(merged)\r\n",
        "\r\n",
        "# Code ends here"
      ],
      "execution_count": null,
      "outputs": []
    },
    {
      "cell_type": "code",
      "metadata": {
        "id": "qq6TLgd9TVmh"
      },
      "source": [
        "#Task 12 - Categorize Attack speed points into Low Attack, Normal Attack and High Attack\r\n",
        "# Code starts here\r\n",
        "# Subset the dataframe of Attack speed points\r\n",
        "Special_attack = pd.DataFrame(df['Attack speed points'],columns=['Attack speed points'])\r\n",
        "#print(type(Special_attack))\r\n",
        "\r\n",
        "# Print first 5 rows\r\n",
        "Special_attack.head()\r\n",
        "# Create a function attack\r\n",
        "#print(Special_attack.isnull().sum())\r\n",
        "#print(Special_attack.info())\r\n",
        "\r\n",
        "def attack(num):\r\n",
        "    if num < 60:\r\n",
        "        return 'Low Attack'\r\n",
        "    elif num > 60 and num <=120:\r\n",
        "        return 'Normal Attack'\r\n",
        "    else:\r\n",
        "        return 'High Attack'        \r\n",
        "\r\n",
        "# apply attack function on the feature Attack speed points.\r\n",
        "Special_attack['Attack speed points']= Special_attack['Attack speed points'].apply(lambda x : attack(x))\r\n",
        "print(Special_attack)\r\n",
        "# Code ends here"
      ],
      "execution_count": null,
      "outputs": []
    },
    {
      "cell_type": "code",
      "metadata": {
        "id": "HmNez-ZqTVj0"
      },
      "source": [
        "#Task 13 - Which pokemon type is the strongest and which the weakest? (according to total stats)\r\n",
        "# Code starts here\r\n",
        "#Determine which type (Type 1) pokemons are the Strongest(Total)\r\n",
        "\r\n",
        "pokemon_type_avg = df.groupby(['Type 1']).agg({\"Total\":\"mean\"}).sort_values(by= \"Total\",ascending = True)\r\n",
        "\r\n",
        "#print(pokemon_type_avg)\r\n",
        "print(type(pokemon_type_avg))\r\n",
        "pokemon_type_avg.reset_index(inplace=True)\r\n",
        "print(pokemon_type_avg.iloc[0,0])\r\n",
        "# Strongest pokemon\r\n",
        "weakest_type = pokemon_type_avg.iloc[0,0]\r\n",
        "\r\n",
        "# Weakest pokemon\r\n",
        "strongest_type = pokemon_type_avg.iloc[-1,0]\r\n",
        "# Code ends here\r\n",
        "print('strongest_type is ',strongest_type)\r\n",
        "print('weakest_type is ',weakest_type)"
      ],
      "execution_count": null,
      "outputs": []
    },
    {
      "cell_type": "code",
      "metadata": {
        "id": "SbvJxbsZRsbS"
      },
      "source": [
        "# Code starts here\r\n",
        "# Set index name as Name\r\n",
        "#print(df)\r\n",
        "#df.set_index(name='Name')\r\n",
        "\r\n",
        "# Create a subset of \"Legendary\",\"Generation\",\"Attack\" based on `True` Legendary \r\n",
        "Legendary=df[df['Legendary']==True]\r\n",
        "pokemon_stats= Legendary[[\"Legendary\",\"Generation\",\"Attack\"]]\r\n",
        "# Groupby on data to find highest Legendary pokemon\r\n",
        "df2=pokemon_stats.groupby([\"Generation\",\"Name\"]).agg({\"Attack\":\"mean\"})\r\n",
        "print(df2)\r\n",
        "pokemon_stats_legendary=df2.idxmax()[0]\r\n",
        "print(df2.index)\r\n",
        "\r\n",
        "print(pokemon_stats_legendary)\r\n",
        "# Code ends here"
      ],
      "execution_count": null,
      "outputs": []
    }
  ]
}