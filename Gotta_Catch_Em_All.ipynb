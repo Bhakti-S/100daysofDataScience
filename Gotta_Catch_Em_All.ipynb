{
  "nbformat": 4,
  "nbformat_minor": 0,
  "metadata": {
    "colab": {
      "name": "Gotta Catch Em All.ipynb",
      "provenance": [],
      "authorship_tag": "ABX9TyObrxUN8IljLJy54Axt8UYf",
      "include_colab_link": true
    },
    "kernelspec": {
      "name": "python3",
      "display_name": "Python 3"
    }
  },
  "cells": [
    {
      "cell_type": "markdown",
      "metadata": {
        "id": "view-in-github",
        "colab_type": "text"
      },
      "source": [
        "<a href=\"https://colab.research.google.com/github/Bhakti-S/100daysofDataScience/blob/master/Gotta_Catch_Em_All.ipynb\" target=\"_parent\"><img src=\"https://colab.research.google.com/assets/colab-badge.svg\" alt=\"Open In Colab\"/></a>"
      ]
    },
    {
      "cell_type": "code",
      "metadata": {
        "colab": {
          "base_uri": "https://localhost:8080/"
        },
        "id": "LsWDnHhAR9MP",
        "outputId": "d51dd5e1-4654-4ba8-e7c6-91e7e8a1977c"
      },
      "source": [
        "#Task 1 - Load the Pokemon dataset\r\n",
        "import pandas as pd\r\n",
        "filepath = '/pokemon.csv'\r\n",
        "df = pd.read_csv(filepath)\r\n",
        "print(df)"
      ],
      "execution_count": 2,
      "outputs": [
        {
          "output_type": "stream",
          "text": [
            "       #            Name   Type 1  ... Speed  Generation  Legendary\n",
            "0      1       Bulbasaur    Grass  ...    45           1      False\n",
            "1      2         Ivysaur    Grass  ...    60           1      False\n",
            "2      3        Venusaur    Grass  ...    80           1      False\n",
            "3      4   Mega Venusaur    Grass  ...    80           1      False\n",
            "4      5      Charmander     Fire  ...    65           1      False\n",
            "..   ...             ...      ...  ...   ...         ...        ...\n",
            "795  796         Diancie     Rock  ...    50           6       True\n",
            "796  797    Mega Diancie     Rock  ...   110           6       True\n",
            "797  798  Hoopa Confined  Psychic  ...    70           6       True\n",
            "798  799   Hoopa Unbound  Psychic  ...    80           6       True\n",
            "799  800       Volcanion     Fire  ...    70           6       True\n",
            "\n",
            "[800 rows x 12 columns]\n"
          ],
          "name": "stdout"
        }
      ]
    },
    {
      "cell_type": "code",
      "metadata": {
        "colab": {
          "base_uri": "https://localhost:8080/"
        },
        "id": "HFrfeboKSgnm",
        "outputId": "de5c168e-3cd2-4115-81bb-b306b67cfb1d"
      },
      "source": [
        "#Task 2 - Explore the dataset\r\n",
        "# Code starts here\r\n",
        "# head of the dataframe\r\n",
        "head = df.head(10)\r\n",
        "print('head ',head)\r\n",
        "# describe the dataframe\r\n",
        "\r\n",
        "describe = df.describe()\r\n",
        "print('describe ', describe)\r\n",
        "# shape of the dataframe\r\n",
        "shape = df.shape\r\n",
        "print(shape)\r\n",
        "\r\n",
        "# check for null values\r\n",
        "null = df.isnull().sum()\r\n",
        "\r\n",
        "print('null ', null)\r\n",
        "# check for unique values\r\n",
        "unique = df.nunique()\r\n",
        "print('unique ',unique)\r\n",
        "\r\n",
        "# code ends here"
      ],
      "execution_count": 3,
      "outputs": [
        {
          "output_type": "stream",
          "text": [
            "head      #              Name Type 1  Type 2  ...  Sp. Def  Speed  Generation  Legendary\n",
            "0   1         Bulbasaur  Grass  Poison  ...       65     45           1      False\n",
            "1   2           Ivysaur  Grass  Poison  ...       80     60           1      False\n",
            "2   3          Venusaur  Grass  Poison  ...      100     80           1      False\n",
            "3   4     Mega Venusaur  Grass  Poison  ...      120     80           1      False\n",
            "4   5        Charmander   Fire     NaN  ...       50     65           1      False\n",
            "5   6        Charmeleon   Fire     NaN  ...       65     80           1      False\n",
            "6   7         Charizard   Fire  Flying  ...       85    100           1      False\n",
            "7   8  Mega Charizard X   Fire  Dragon  ...       85    100           1      False\n",
            "8   9  Mega Charizard Y   Fire  Flying  ...      115    100           1      False\n",
            "9  10          Squirtle  Water     NaN  ...       64     43           1      False\n",
            "\n",
            "[10 rows x 12 columns]\n",
            "describe                #          HP      Attack  ...     Sp. Def       Speed  Generation\n",
            "count  800.0000  800.000000  800.000000  ...  800.000000  800.000000   800.00000\n",
            "mean   400.5000   69.258750   79.001250  ...   71.902500   68.277500     3.32375\n",
            "std    231.0844   25.534669   32.457366  ...   27.828916   29.060474     1.66129\n",
            "min      1.0000    1.000000    5.000000  ...   20.000000    5.000000     1.00000\n",
            "25%    200.7500   50.000000   55.000000  ...   50.000000   45.000000     2.00000\n",
            "50%    400.5000   65.000000   75.000000  ...   70.000000   65.000000     3.00000\n",
            "75%    600.2500   80.000000  100.000000  ...   90.000000   90.000000     5.00000\n",
            "max    800.0000  255.000000  190.000000  ...  230.000000  180.000000     6.00000\n",
            "\n",
            "[8 rows x 8 columns]\n",
            "(800, 12)\n",
            "null  #               0\n",
            "Name            1\n",
            "Type 1          0\n",
            "Type 2        386\n",
            "HP              0\n",
            "Attack          0\n",
            "Defense         0\n",
            "Sp. Atk         0\n",
            "Sp. Def         0\n",
            "Speed           0\n",
            "Generation      0\n",
            "Legendary       0\n",
            "dtype: int64\n",
            "unique  #             800\n",
            "Name          799\n",
            "Type 1         18\n",
            "Type 2         18\n",
            "HP             94\n",
            "Attack        111\n",
            "Defense       103\n",
            "Sp. Atk       105\n",
            "Sp. Def        92\n",
            "Speed         108\n",
            "Generation      6\n",
            "Legendary       2\n",
            "dtype: int64\n"
          ],
          "name": "stdout"
        }
      ]
    },
    {
      "cell_type": "code",
      "metadata": {
        "id": "F21PbTIYxdJd"
      },
      "source": [
        "from google.colab import drive\n",
        "drive.mount('/content/drive')"
      ],
      "execution_count": null,
      "outputs": []
    },
    {
      "cell_type": "code",
      "metadata": {
        "colab": {
          "base_uri": "https://localhost:8080/"
        },
        "id": "AmrwxMuaSxZv",
        "outputId": "04d814be-c567-4466-fecc-8d78204b228c"
      },
      "source": [
        "#Task 3 - Find total powers of Pokemon\r\n",
        "# Code starts here\r\n",
        "df['Total'] = df['HP']+df['Attack'] + df['Sp. Atk'] + df['Sp. Def']+ df['Speed'] + df['Defense']\r\n",
        "# Create new column\r\n",
        "print(df.shape)\r\n",
        "print(df['Total'])\r\n",
        "print(df['Total'][3])"
      ],
      "execution_count": 4,
      "outputs": [
        {
          "output_type": "stream",
          "text": [
            "(800, 13)\n",
            "0      318\n",
            "1      405\n",
            "2      525\n",
            "3      625\n",
            "4      309\n",
            "      ... \n",
            "795    600\n",
            "796    700\n",
            "797    600\n",
            "798    680\n",
            "799    600\n",
            "Name: Total, Length: 800, dtype: int64\n",
            "625\n"
          ],
          "name": "stdout"
        }
      ]
    },
    {
      "cell_type": "code",
      "metadata": {
        "colab": {
          "base_uri": "https://localhost:8080/",
          "height": 235
        },
        "id": "CXEcudDzSxUI",
        "outputId": "5fad8089-5668-429f-d02e-98730eb3ac3c"
      },
      "source": [
        "\r\n",
        "#Task 4 - Rename, drop and clean\r\n",
        "# Code starts here\r\n",
        "# Rename columns 'HP', 'Sp. Atk' and 'Sp. Def' as 'Health Points',\r\n",
        "# 'Attack speed points' and 'Defense speed points'\r\n",
        "df.rename(columns= \r\n",
        "{'HP':'Health Points', 'Sp. Atk': 'Attack speed points','Sp. Def':'Defense speed points'}, inplace = True)\r\n",
        "\r\n",
        "\r\n",
        "# Remove the '#' column permanently\r\n",
        "\r\n",
        "df.drop(['#'], axis=1, inplace = True)\r\n",
        "\r\n",
        "# Set index as names\r\n",
        "df.set_index('Name',inplace = True)\r\n",
        "\r\n",
        "# Look at the first 5 observations\r\n",
        "df.head(5)\r\n",
        "\r\n",
        "# Code ends here"
      ],
      "execution_count": 5,
      "outputs": [
        {
          "output_type": "execute_result",
          "data": {
            "text/html": [
              "<div>\n",
              "<style scoped>\n",
              "    .dataframe tbody tr th:only-of-type {\n",
              "        vertical-align: middle;\n",
              "    }\n",
              "\n",
              "    .dataframe tbody tr th {\n",
              "        vertical-align: top;\n",
              "    }\n",
              "\n",
              "    .dataframe thead th {\n",
              "        text-align: right;\n",
              "    }\n",
              "</style>\n",
              "<table border=\"1\" class=\"dataframe\">\n",
              "  <thead>\n",
              "    <tr style=\"text-align: right;\">\n",
              "      <th></th>\n",
              "      <th>Type 1</th>\n",
              "      <th>Type 2</th>\n",
              "      <th>Health Points</th>\n",
              "      <th>Attack</th>\n",
              "      <th>Defense</th>\n",
              "      <th>Attack speed points</th>\n",
              "      <th>Defense speed points</th>\n",
              "      <th>Speed</th>\n",
              "      <th>Generation</th>\n",
              "      <th>Legendary</th>\n",
              "      <th>Total</th>\n",
              "    </tr>\n",
              "    <tr>\n",
              "      <th>Name</th>\n",
              "      <th></th>\n",
              "      <th></th>\n",
              "      <th></th>\n",
              "      <th></th>\n",
              "      <th></th>\n",
              "      <th></th>\n",
              "      <th></th>\n",
              "      <th></th>\n",
              "      <th></th>\n",
              "      <th></th>\n",
              "      <th></th>\n",
              "    </tr>\n",
              "  </thead>\n",
              "  <tbody>\n",
              "    <tr>\n",
              "      <th>Bulbasaur</th>\n",
              "      <td>Grass</td>\n",
              "      <td>Poison</td>\n",
              "      <td>45</td>\n",
              "      <td>49</td>\n",
              "      <td>49</td>\n",
              "      <td>65</td>\n",
              "      <td>65</td>\n",
              "      <td>45</td>\n",
              "      <td>1</td>\n",
              "      <td>False</td>\n",
              "      <td>318</td>\n",
              "    </tr>\n",
              "    <tr>\n",
              "      <th>Ivysaur</th>\n",
              "      <td>Grass</td>\n",
              "      <td>Poison</td>\n",
              "      <td>60</td>\n",
              "      <td>62</td>\n",
              "      <td>63</td>\n",
              "      <td>80</td>\n",
              "      <td>80</td>\n",
              "      <td>60</td>\n",
              "      <td>1</td>\n",
              "      <td>False</td>\n",
              "      <td>405</td>\n",
              "    </tr>\n",
              "    <tr>\n",
              "      <th>Venusaur</th>\n",
              "      <td>Grass</td>\n",
              "      <td>Poison</td>\n",
              "      <td>80</td>\n",
              "      <td>82</td>\n",
              "      <td>83</td>\n",
              "      <td>100</td>\n",
              "      <td>100</td>\n",
              "      <td>80</td>\n",
              "      <td>1</td>\n",
              "      <td>False</td>\n",
              "      <td>525</td>\n",
              "    </tr>\n",
              "    <tr>\n",
              "      <th>Mega Venusaur</th>\n",
              "      <td>Grass</td>\n",
              "      <td>Poison</td>\n",
              "      <td>80</td>\n",
              "      <td>100</td>\n",
              "      <td>123</td>\n",
              "      <td>122</td>\n",
              "      <td>120</td>\n",
              "      <td>80</td>\n",
              "      <td>1</td>\n",
              "      <td>False</td>\n",
              "      <td>625</td>\n",
              "    </tr>\n",
              "    <tr>\n",
              "      <th>Charmander</th>\n",
              "      <td>Fire</td>\n",
              "      <td>NaN</td>\n",
              "      <td>39</td>\n",
              "      <td>52</td>\n",
              "      <td>43</td>\n",
              "      <td>60</td>\n",
              "      <td>50</td>\n",
              "      <td>65</td>\n",
              "      <td>1</td>\n",
              "      <td>False</td>\n",
              "      <td>309</td>\n",
              "    </tr>\n",
              "  </tbody>\n",
              "</table>\n",
              "</div>"
            ],
            "text/plain": [
              "              Type 1  Type 2  Health Points  ...  Generation  Legendary  Total\n",
              "Name                                         ...                              \n",
              "Bulbasaur      Grass  Poison             45  ...           1      False    318\n",
              "Ivysaur        Grass  Poison             60  ...           1      False    405\n",
              "Venusaur       Grass  Poison             80  ...           1      False    525\n",
              "Mega Venusaur  Grass  Poison             80  ...           1      False    625\n",
              "Charmander      Fire     NaN             39  ...           1      False    309\n",
              "\n",
              "[5 rows x 11 columns]"
            ]
          },
          "metadata": {
            "tags": []
          },
          "execution_count": 5
        }
      ]
    },
    {
      "cell_type": "code",
      "metadata": {
        "colab": {
          "base_uri": "https://localhost:8080/"
        },
        "id": "nx1In5aHSxLP",
        "outputId": "922bcb19-1033-413d-b1c1-7f8954ee6a1b"
      },
      "source": [
        "#Task 5 - Find out information of Pokemons based on `Type 2` attribute \r\n",
        "# Code starts here\r\n",
        "\r\n",
        "# Different variants of `Type 2`\r\n",
        "type_two = df['Type 2'].unique()\r\n",
        "print(type_two)\r\n",
        "\r\n",
        "# Total different types of `Type 2`\r\n",
        "type_two_num = df['Type 2'].nunique()\r\n",
        "print(type_two_num)\r\n",
        "\r\n",
        "# Counts for different types of `Type 2`\r\n",
        "counts_type_two = df['Type 2'].value_counts()\r\n",
        "print(counts_type_two)\r\n",
        "#df.groupby('Type 2').count()\r\n",
        "no_type_two = df['Type 2'].isnull().sum()\r\n",
        "# Number of Pokemons don't have `Type 2`\r\n",
        "#print(df['Type 2'==''].count())\r\n",
        "print(no_type_two)\r\n",
        "# Code ends here"
      ],
      "execution_count": 6,
      "outputs": [
        {
          "output_type": "stream",
          "text": [
            "['Poison' nan 'Flying' 'Dragon' 'Ground' 'Fairy' 'Grass' 'Fighting'\n",
            " 'Psychic' 'Steel' 'Ice' 'Rock' 'Dark' 'Water' 'Electric' 'Fire' 'Ghost'\n",
            " 'Bug' 'Normal']\n",
            "18\n",
            "Flying      97\n",
            "Ground      35\n",
            "Poison      34\n",
            "Psychic     33\n",
            "Fighting    26\n",
            "Grass       25\n",
            "Fairy       23\n",
            "Steel       22\n",
            "Dark        20\n",
            "Dragon      18\n",
            "Rock        14\n",
            "Ice         14\n",
            "Water       14\n",
            "Ghost       14\n",
            "Fire        12\n",
            "Electric     6\n",
            "Normal       4\n",
            "Bug          3\n",
            "Name: Type 2, dtype: int64\n",
            "386\n"
          ],
          "name": "stdout"
        }
      ]
    },
    {
      "cell_type": "code",
      "metadata": {
        "colab": {
          "base_uri": "https://localhost:8080/"
        },
        "id": "wpjBZe0LTG_8",
        "outputId": "3ef69d90-bf99-4334-9d09-1b395d72f0b0"
      },
      "source": [
        "#Task 6 - Find the pokemon with the highest points\r\n",
        "# Code starts here\r\n",
        "df['Legendary'].nunique()\r\n",
        "df['Legendary'].value_counts()\r\n",
        "print(len(df['Legendary']))\r\n",
        "\r\n",
        "print(df.head())\r\n",
        "print(df.columns)\r\n",
        "# Which pokemon has the highest 'Health Points'?\r\n",
        "healthiest_pokemon = df['Health Points'].idxmax()\r\n",
        "\r\n",
        "# Which pokemon has the highest Special Atack points?\r\n",
        "special_attack_pokemon = df['Attack speed points'].idxmax()\r\n",
        "\r\n",
        "# Which pokemon has the highest Special Defense points?\r\n",
        "\r\n",
        "special_defense_pokemon = df['Defense speed points'].idxmax()\r\n",
        "# Which pokemon has highest Speed?\r\n",
        "fastest_pokemon = df['Speed'].idxmax()\r\n",
        "\r\n",
        "print(healthiest_pokemon,' : healthiest_pokemon')\r\n",
        "print(special_attack_pokemon,' : special_attack_pokemon')\r\n",
        "print(special_defense_pokemon,' : special_defense_pokemon')\r\n",
        "print(fastest_pokemon,' : fastest_pokemon')\r\n",
        "# Code ends here"
      ],
      "execution_count": 7,
      "outputs": [
        {
          "output_type": "stream",
          "text": [
            "800\n",
            "              Type 1  Type 2  Health Points  ...  Generation  Legendary  Total\n",
            "Name                                         ...                              \n",
            "Bulbasaur      Grass  Poison             45  ...           1      False    318\n",
            "Ivysaur        Grass  Poison             60  ...           1      False    405\n",
            "Venusaur       Grass  Poison             80  ...           1      False    525\n",
            "Mega Venusaur  Grass  Poison             80  ...           1      False    625\n",
            "Charmander      Fire     NaN             39  ...           1      False    309\n",
            "\n",
            "[5 rows x 11 columns]\n",
            "Index(['Type 1', 'Type 2', 'Health Points', 'Attack', 'Defense',\n",
            "       'Attack speed points', 'Defense speed points', 'Speed', 'Generation',\n",
            "       'Legendary', 'Total'],\n",
            "      dtype='object')\n",
            "Blissey  : healthiest_pokemon\n",
            "Mega Mewtwo Y  : special_attack_pokemon\n",
            "Shuckle  : special_defense_pokemon\n",
            "Deoxys Speed Forme  : fastest_pokemon\n"
          ],
          "name": "stdout"
        }
      ]
    },
    {
      "cell_type": "code",
      "metadata": {
        "colab": {
          "base_uri": "https://localhost:8080/"
        },
        "id": "pq5BSewkTG9T",
        "outputId": "2f727f1e-4969-44ce-8cff-537b682c0ff3"
      },
      "source": [
        "#Task 7 - Answer questions using data\r\n",
        "# Drop row with Name as nan\r\n",
        "df = df[df.index.notnull()]\r\n",
        "# Code starts here\r\n",
        "# Find out which type of pokemons (use only `Type 1`) have the highest chances of being Legendary\r\n",
        "#df[df['Legendary']==True].groupby('Type 1')\r\n",
        "legendary_pokemon = df[df['Legendary']==True]\r\n",
        "legendary_pokemon['Type 1'].value_counts()\r\n",
        "highest_legendary = legendary_pokemon['Type 1'].value_counts().idxmax()\r\n",
        "print(highest_legendary,': type has highest chances of being legendary')\r\n",
        "# Pokemons which do not have 'Type 2' but are Legendary\r\n",
        "#legendary_pokemon[legendary_pokemon['Type 2'].isnull()]\r\n",
        "single_legendary_pokemon = legendary_pokemon[legendary_pokemon['Type 2'].isnull()==True]\r\n",
        "single_type_legendary= len(single_legendary_pokemon)\r\n",
        "print(single_type_legendary)\r\n"
      ],
      "execution_count": 8,
      "outputs": [
        {
          "output_type": "stream",
          "text": [
            "Psychic : type has highest chances of being legendary\n",
            "25\n"
          ],
          "name": "stdout"
        }
      ]
    },
    {
      "cell_type": "code",
      "metadata": {
        "colab": {
          "base_uri": "https://localhost:8080/"
        },
        "id": "Hta2sXAHTG6a",
        "outputId": "321645c5-fc3f-4ba8-ce31-e9c432050a0b"
      },
      "source": [
        "#Task 8 - Modify Pokemon names\r\n",
        "# Code starts here\r\n",
        "\r\n",
        "# Convert 'Name' to uppercase\r\n",
        "#df['Name'].index.str.lower()\r\n",
        "# Convert 'Type 1' to lowercase\r\n",
        "print(df.info())\r\n",
        "\r\n",
        "df.index = df.index.str.upper()\r\n",
        "#Wrong df['Type 1'].str.upper()\r\n",
        "def to_upper(x):\r\n",
        "    return (x.upper())\r\n",
        "\r\n",
        "def to_lower(x):\r\n",
        "    return(x.lower())\r\n",
        "df['Type 1'] = df['Type 1'].apply(lambda x:to_lower(x))\r\n",
        "df['Type 2'] = df['Type 2'].apply(lambda x:to_lower(x) if isinstance(x,str) else None)\r\n",
        "# Convert 'Type 2' to lowercase if present else \r\n",
        "print(df)\r\n"
      ],
      "execution_count": 10,
      "outputs": [
        {
          "output_type": "stream",
          "text": [
            "<class 'pandas.core.frame.DataFrame'>\n",
            "Index: 799 entries, BULBASAUR to VOLCANION\n",
            "Data columns (total 11 columns):\n",
            " #   Column                Non-Null Count  Dtype \n",
            "---  ------                --------------  ----- \n",
            " 0   Type 1                799 non-null    object\n",
            " 1   Type 2                414 non-null    object\n",
            " 2   Health Points         799 non-null    int64 \n",
            " 3   Attack                799 non-null    int64 \n",
            " 4   Defense               799 non-null    int64 \n",
            " 5   Attack speed points   799 non-null    int64 \n",
            " 6   Defense speed points  799 non-null    int64 \n",
            " 7   Speed                 799 non-null    int64 \n",
            " 8   Generation            799 non-null    int64 \n",
            " 9   Legendary             799 non-null    bool  \n",
            " 10  Total                 799 non-null    int64 \n",
            "dtypes: bool(1), int64(8), object(2)\n",
            "memory usage: 69.4+ KB\n",
            "None\n",
            "                 Type 1  Type 2  Health Points  ...  Generation  Legendary  Total\n",
            "Name                                            ...                              \n",
            "BULBASAUR         grass  poison             45  ...           1      False    318\n",
            "IVYSAUR           grass  poison             60  ...           1      False    405\n",
            "VENUSAUR          grass  poison             80  ...           1      False    525\n",
            "MEGA VENUSAUR     grass  poison             80  ...           1      False    625\n",
            "CHARMANDER         fire    None             39  ...           1      False    309\n",
            "...                 ...     ...            ...  ...         ...        ...    ...\n",
            "DIANCIE            rock   fairy             50  ...           6       True    600\n",
            "MEGA DIANCIE       rock   fairy             50  ...           6       True    700\n",
            "HOOPA CONFINED  psychic   ghost             80  ...           6       True    600\n",
            "HOOPA UNBOUND   psychic    dark             80  ...           6       True    680\n",
            "VOLCANION          fire   water             80  ...           6       True    600\n",
            "\n",
            "[799 rows x 11 columns]\n"
          ],
          "name": "stdout"
        }
      ]
    },
    {
      "cell_type": "code",
      "metadata": {
        "colab": {
          "base_uri": "https://localhost:8080/"
        },
        "id": "NWMeF5FXTGwB",
        "outputId": "5f244d84-b1bc-4d70-e676-529ec6f6146e"
      },
      "source": [
        "#Task 9 - Find the fastest type (`Type 1`) Pokemons\r\n",
        "import numpy as np\r\n",
        "# Code starts here\r\n",
        "df['Generation'].value_counts()\r\n",
        "# Determine which type (Type 1) pokemons are the fastest(Speed)\r\n",
        "#print(df.groupby(['Generation','Type 1']).groups)\r\n",
        "\r\n",
        "####CORRECT CODE TOO\r\n",
        "#fastest_type = (df.groupby(['Type 1'])[['Speed']].median().sort_values(by='Speed',ascending=False))\r\n",
        "#print(fastest_type.index[0])\r\n",
        "\r\n",
        "fastest_type1=(df.groupby(['Type 1'])[['Speed']].median().sort_values(by='Speed',ascending=False)).index[0]\r\n",
        "\r\n",
        "fastest_type = fastest_type1.lower()\r\n",
        "print(fastest_type)\r\n"
      ],
      "execution_count": 11,
      "outputs": [
        {
          "output_type": "stream",
          "text": [
            "flying\n"
          ],
          "name": "stdout"
        }
      ]
    },
    {
      "cell_type": "code",
      "metadata": {
        "colab": {
          "base_uri": "https://localhost:8080/"
        },
        "id": "6do6-H1QTVtH",
        "outputId": "53f1d89c-0ae6-4ba2-def9-b8086c2c8920"
      },
      "source": [
        "#Task 10 - Calculate mean value of attack speed points across generations and types \r\n",
        "# Code starts here\r\n",
        "\r\n",
        "# mean value of 'Attack speed points' according to 'Generation' and 'Type 1'\r\n",
        "#print(df.groupby(['Generation','Type 1']).agg({'Attack speed points':'mean'}))\r\n",
        "\r\n",
        "#print(pd.pivot_table(df, index=['Generation', 'Type 1'] ,values='Attack speed points', aggfunc= 'mean'))\r\n",
        "pivot = pd.pivot_table(df, index=['Type 1'], columns=['Generation'], values='Attack speed points')\r\n",
        "print(pivot)\r\n",
        "\r\n",
        "# Code ends here\r\n"
      ],
      "execution_count": 12,
      "outputs": [
        {
          "output_type": "stream",
          "text": [
            "Generation           1          2  ...           5           6\n",
            "Type 1                             ...                        \n",
            "bug          46.428571  47.916667  ...   62.888889   48.000000\n",
            "dark               NaN  85.000000  ...   65.615385   78.666667\n",
            "dragon       73.333333        NaN  ...   97.777778   82.250000\n",
            "electric     91.111111  91.428571  ...   87.500000   83.666667\n",
            "fairy        77.500000  53.000000  ...         NaN   88.333333\n",
            "fighting     42.500000  35.000000  ...   47.142857   63.000000\n",
            "fire         93.142857  83.625000  ...   72.888889   88.500000\n",
            "flying             NaN        NaN  ...  117.500000   71.000000\n",
            "ghost       128.750000  85.000000  ...   91.000000   52.300000\n",
            "grass        90.538462  61.666667  ...   69.266667   67.400000\n",
            "ground       39.375000  45.000000  ...   61.600000         NaN\n",
            "ice         105.000000  60.000000  ...   80.000000   38.000000\n",
            "normal       55.125000  58.466667  ...   54.473684   46.750000\n",
            "poison       57.142857  70.000000  ...   50.000000   78.500000\n",
            "psychic     123.000000  84.285714  ...   92.785714  109.800000\n",
            "rock         61.500000  66.000000  ...   65.500000   75.888889\n",
            "steel              NaN  50.000000  ...   68.750000   72.000000\n",
            "water        69.354839  68.277778  ...   77.777778   85.200000\n",
            "\n",
            "[18 rows x 6 columns]\n"
          ],
          "name": "stdout"
        }
      ]
    },
    {
      "cell_type": "code",
      "metadata": {
        "colab": {
          "base_uri": "https://localhost:8080/"
        },
        "id": "x7zcSHwRTVqi",
        "outputId": "6469f87c-f991-4571-94e2-2765907d8f35"
      },
      "source": [
        "#Task 11 - Combine data by merging dataframes\r\n",
        "# Input \r\n",
        "\r\n",
        "df1 = pd.DataFrame({'fruit': ['apple', 'banana', 'orange'] * 3,\r\n",
        "                    'weight': ['high', 'medium', 'low'] * 3,\r\n",
        "                    'price': np.random.randint(0, 15, 9)})\r\n",
        "\r\n",
        "df2 = pd.DataFrame({'product': ['apple', 'orange', 'pine'] * 2,\r\n",
        "                    'kilo': ['high', 'low'] * 3,\r\n",
        "                    'price': np.random.randint(0, 15, 6)})\r\n",
        "\r\n",
        "print(df1)\r\n",
        "print(df2)\r\n",
        "# Code starts here\r\n",
        "merged=pd.merge(left=df1, right=df2, left_on=['fruit', 'weight'], right_on=['product','kilo'],how='inner', suffixes=['_left','_right'])\r\n",
        "\r\n",
        "print(merged)\r\n",
        "\r\n",
        "# Code ends here"
      ],
      "execution_count": 13,
      "outputs": [
        {
          "output_type": "stream",
          "text": [
            "    fruit  weight  price\n",
            "0   apple    high      0\n",
            "1  banana  medium     11\n",
            "2  orange     low     10\n",
            "3   apple    high      5\n",
            "4  banana  medium      3\n",
            "5  orange     low      6\n",
            "6   apple    high      4\n",
            "7  banana  medium     13\n",
            "8  orange     low      6\n",
            "  product  kilo  price\n",
            "0   apple  high      9\n",
            "1  orange   low      4\n",
            "2    pine  high      4\n",
            "3   apple   low      3\n",
            "4  orange  high     14\n",
            "5    pine   low     13\n",
            "    fruit weight  price_left product  kilo  price_right\n",
            "0   apple   high           0   apple  high            9\n",
            "1   apple   high           5   apple  high            9\n",
            "2   apple   high           4   apple  high            9\n",
            "3  orange    low          10  orange   low            4\n",
            "4  orange    low           6  orange   low            4\n",
            "5  orange    low           6  orange   low            4\n"
          ],
          "name": "stdout"
        }
      ]
    },
    {
      "cell_type": "code",
      "metadata": {
        "colab": {
          "base_uri": "https://localhost:8080/"
        },
        "id": "qq6TLgd9TVmh",
        "outputId": "549ea728-31c9-4c41-944b-ce70963ebd2f"
      },
      "source": [
        "#Task 12 - Categorize Attack speed points into Low Attack, Normal Attack and High Attack\r\n",
        "# Code starts here\r\n",
        "# Subset the dataframe of Attack speed points\r\n",
        "Special_attack = pd.DataFrame(df['Attack speed points'],columns=['Attack speed points'])\r\n",
        "#print(type(Special_attack))\r\n",
        "\r\n",
        "# Print first 5 rows\r\n",
        "Special_attack.head()\r\n",
        "# Create a function attack\r\n",
        "#print(Special_attack.isnull().sum())\r\n",
        "#print(Special_attack.info())\r\n",
        "\r\n",
        "def attack(num):\r\n",
        "    if num < 60:\r\n",
        "        return 'Low Attack'\r\n",
        "    elif num > 60 and num <=120:\r\n",
        "        return 'Normal Attack'\r\n",
        "    else:\r\n",
        "        return 'High Attack'        \r\n",
        "\r\n",
        "# apply attack function on the feature Attack speed points.\r\n",
        "Special_attack['Attack speed points']= Special_attack['Attack speed points'].apply(lambda x : attack(x))\r\n",
        "print(Special_attack)\r\n",
        "# Code ends here"
      ],
      "execution_count": 14,
      "outputs": [
        {
          "output_type": "stream",
          "text": [
            "               Attack speed points\n",
            "Name                              \n",
            "BULBASAUR            Normal Attack\n",
            "IVYSAUR              Normal Attack\n",
            "VENUSAUR             Normal Attack\n",
            "MEGA VENUSAUR          High Attack\n",
            "CHARMANDER             High Attack\n",
            "...                            ...\n",
            "DIANCIE              Normal Attack\n",
            "MEGA DIANCIE           High Attack\n",
            "HOOPA CONFINED         High Attack\n",
            "HOOPA UNBOUND          High Attack\n",
            "VOLCANION              High Attack\n",
            "\n",
            "[799 rows x 1 columns]\n"
          ],
          "name": "stdout"
        }
      ]
    },
    {
      "cell_type": "code",
      "metadata": {
        "colab": {
          "base_uri": "https://localhost:8080/"
        },
        "id": "HmNez-ZqTVj0",
        "outputId": "266ea75d-eb22-4c1d-8fca-f2380d007972"
      },
      "source": [
        "#Task 13 - Which pokemon type is the strongest and which the weakest? (according to total stats)\r\n",
        "# Code starts here\r\n",
        "#Determine which type (Type 1) pokemons are the Strongest(Total)\r\n",
        "\r\n",
        "pokemon_type_avg = df.groupby(['Type 1']).agg({\"Total\":\"mean\"}).sort_values(by= \"Total\",ascending = True)\r\n",
        "\r\n",
        "#print(pokemon_type_avg)\r\n",
        "print(type(pokemon_type_avg))\r\n",
        "pokemon_type_avg.reset_index(inplace=True)\r\n",
        "print(pokemon_type_avg.iloc[0,0])\r\n",
        "# Strongest pokemon\r\n",
        "weakest_type = pokemon_type_avg.iloc[0,0]\r\n",
        "\r\n",
        "# Weakest pokemon\r\n",
        "strongest_type = pokemon_type_avg.iloc[-1,0]\r\n",
        "# Code ends here\r\n",
        "print('strongest_type is ',strongest_type)\r\n",
        "print('weakest_type is ',weakest_type)"
      ],
      "execution_count": 15,
      "outputs": [
        {
          "output_type": "stream",
          "text": [
            "<class 'pandas.core.frame.DataFrame'>\n",
            "bug\n",
            "strongest_type is  dragon\n",
            "weakest_type is  bug\n"
          ],
          "name": "stdout"
        }
      ]
    },
    {
      "cell_type": "code",
      "metadata": {
        "id": "SbvJxbsZRsbS",
        "colab": {
          "base_uri": "https://localhost:8080/"
        },
        "outputId": "0bc25db2-24a1-4535-ba4e-bc2e9179e305"
      },
      "source": [
        "# Code starts here\r\n",
        "# Set index name as Name\r\n",
        "#print(df)\r\n",
        "#df.set_index(name='Name')\r\n",
        "\r\n",
        "# Create a subset of \"Legendary\",\"Generation\",\"Attack\" based on `True` Legendary \r\n",
        "Legendary=df[df['Legendary']==True]\r\n",
        "pokemon_stats= Legendary[[\"Legendary\",\"Generation\",\"Attack\"]]\r\n",
        "# Groupby on data to find highest Legendary pokemon\r\n",
        "df2=pokemon_stats.groupby([\"Generation\",\"Name\"]).agg({\"Attack\":\"mean\"})\r\n",
        "print(df2)\r\n",
        "pokemon_stats_legendary=df2.idxmax()[0]\r\n",
        "print(df2.index)\r\n",
        "\r\n",
        "print(pokemon_stats_legendary)\r\n",
        "# Code ends here"
      ],
      "execution_count": 16,
      "outputs": [
        {
          "output_type": "stream",
          "text": [
            "                               Attack\n",
            "Generation Name                      \n",
            "1          ARTICUNO                85\n",
            "           MEGA MEWTWO X          190\n",
            "           MEGA MEWTWO Y          150\n",
            "           MEWTWO                 110\n",
            "           MOLTRES                100\n",
            "...                               ...\n",
            "6          MEGA DIANCIE           160\n",
            "           VOLCANION              110\n",
            "           XERNEAS                131\n",
            "           YVELTAL                131\n",
            "           ZYGARDE HALF FORME     100\n",
            "\n",
            "[65 rows x 1 columns]\n",
            "MultiIndex([(1,                  'ARTICUNO'),\n",
            "            (1,             'MEGA MEWTWO X'),\n",
            "            (1,             'MEGA MEWTWO Y'),\n",
            "            (1,                    'MEWTWO'),\n",
            "            (1,                   'MOLTRES'),\n",
            "            (1,                    'ZAPDOS'),\n",
            "            (2,                     'ENTEI'),\n",
            "            (2,                     'HO-OH'),\n",
            "            (2,                     'LUGIA'),\n",
            "            (2,                    'RAIKOU'),\n",
            "            (2,                   'SUICUNE'),\n",
            "            (3,      'DEOXYS DEFENSE FORME'),\n",
            "            (3,       'DEOXYS NORMAL FORME'),\n",
            "            (3,        'DEOXYS SPEED FORME'),\n",
            "            (3,        'DEOXYSATTACK FORME'),\n",
            "            (3,                   'GROUDON'),\n",
            "            (3,                   'JIRACHI'),\n",
            "            (3,                    'KYOGRE'),\n",
            "            (3,                    'LATIAS'),\n",
            "            (3,                    'LATIOS'),\n",
            "            (3,               'MEGA LATIAS'),\n",
            "            (3,               'MEGA LATIOS'),\n",
            "            (3,             'MEGA RAYQUAZA'),\n",
            "            (3,            'PRIMAL GROUDON'),\n",
            "            (3,             'PRIMAL KYOGRE'),\n",
            "            (3,                  'RAYQUAZA'),\n",
            "            (3,                    'REGICE'),\n",
            "            (3,                  'REGIROCK'),\n",
            "            (3,                 'REGISTEEL'),\n",
            "            (4,                    'ARCEUS'),\n",
            "            (4,                     'AZELF'),\n",
            "            (4,                   'DARKRAI'),\n",
            "            (4,                    'DIALGA'),\n",
            "            (4,    'GIRATINA ALTERED FORME'),\n",
            "            (4,     'GIRATINA ORIGIN FORME'),\n",
            "            (4,                   'HEATRAN'),\n",
            "            (4,                   'MESPRIT'),\n",
            "            (4,                    'PALKIA'),\n",
            "            (4,                 'REGIGIGAS'),\n",
            "            (4,        'SHAYMIN LAND FORME'),\n",
            "            (4,         'SHAYMIN SKY FORME'),\n",
            "            (4,                      'UXIE'),\n",
            "            (5,                  'COBALION'),\n",
            "            (5,                    'KYUREM'),\n",
            "            (5,       'KYUREM BLACK KYUREM'),\n",
            "            (5,       'KYUREM WHITE KYUREM'),\n",
            "            (5,  'LANDORUS INCARNATE FORME'),\n",
            "            (5,    'LANDORUS THERIAN FORME'),\n",
            "            (5,                  'RESHIRAM'),\n",
            "            (5,                 'TERRAKION'),\n",
            "            (5, 'THUNDURUS INCARNATE FORME'),\n",
            "            (5,   'THUNDURUS THERIAN FORME'),\n",
            "            (5,  'TORNADUS INCARNATE FORME'),\n",
            "            (5,    'TORNADUS THERIAN FORME'),\n",
            "            (5,                   'VICTINI'),\n",
            "            (5,                  'VIRIZION'),\n",
            "            (5,                    'ZEKROM'),\n",
            "            (6,                   'DIANCIE'),\n",
            "            (6,            'HOOPA CONFINED'),\n",
            "            (6,             'HOOPA UNBOUND'),\n",
            "            (6,              'MEGA DIANCIE'),\n",
            "            (6,                 'VOLCANION'),\n",
            "            (6,                   'XERNEAS'),\n",
            "            (6,                   'YVELTAL'),\n",
            "            (6,        'ZYGARDE HALF FORME')],\n",
            "           names=['Generation', 'Name'])\n",
            "(1, 'MEGA MEWTWO X')\n"
          ],
          "name": "stdout"
        }
      ]
    }
  ]
}