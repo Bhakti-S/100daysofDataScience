{
 "cells": [
  {
   "cell_type": "markdown",
   "metadata": {
    "id": "ezVmm8QExRAy"
   },
   "source": [
    "#### Problem Statement \n",
    " Stayze is an online market company that provides lodging and primary homestays.The company doesnot  own any real estate or property but it recieves some brokerage for each booking. The activities of hosts ( they rent out their property that shed light on the area, availiability, price , and other amenities) and travellers (display their reviews ) resulted in a rich database. \n",
    "The stakeholders are : \n",
    "1. The CEO of the company since it receives  commission from each booking.\n",
    "2. The hosts whose properties are listed\n",
    "3. Finance department (for ideal investment) and marketing department(for marketing initiatives).\n",
    "\n",
    "Th stakeholders want to utilise this data efficiently to know the ideal prices at which the properties could be rented. Further,another  objective is  to understand the behavior of customers and providers that would guide in formulating the marketing initiatives and implementing the innovative additional services.\n",
    "\n",
    "\n",
    "#### Business Objective\n",
    "\n",
    "To predict the prices at which the listed properties could be rented since it would help the stakeholders to decide about the ideal investment . \n",
    "\n",
    "#### Data Science Objective \n",
    "Since the problem involves predicting the rental price, it reflects the case of supervised machine learning . We could consider the machine leraning alogrithms such as Linear Regression and Random Forest with cross validation to predict the prices based on the given variables.\n",
    "\n",
    "#### Hypothesis Building : TARGET VARIABLE : Price\n",
    " Based on the given dataset , we could hypothesis the following :\n",
    "a) Does the variables such as location , area ,availability of property and nearby amenities impact the rental price?\n",
    "b) Does the minimum nights clause decrease the rental price ?\n",
    "c) Does the seasonality impact the prices?\n",
    "d) Is there any correlation between rental demand and prices?"
   ]
  },
  {
   "cell_type": "code",
   "execution_count": 3,
   "metadata": {
    "colab": {
     "base_uri": "https://localhost:8080/",
     "height": 35
    },
    "id": "rscJBbP8xWAp",
    "outputId": "88429330-f498-4fa7-b2ad-25e6b52a7544"
   },
   "outputs": [
    {
     "ename": "ModuleNotFoundError",
     "evalue": "No module named 'google'",
     "output_type": "error",
     "traceback": [
      "\u001b[1;31m---------------------------------------------------------------------------\u001b[0m",
      "\u001b[1;31mModuleNotFoundError\u001b[0m                       Traceback (most recent call last)",
      "\u001b[1;32m<ipython-input-3-02f9dd880e0c>\u001b[0m in \u001b[0;36m<module>\u001b[1;34m()\u001b[0m\n\u001b[1;32m----> 1\u001b[1;33m \u001b[1;32mfrom\u001b[0m \u001b[0mgoogle\u001b[0m\u001b[1;33m.\u001b[0m\u001b[0mcolab\u001b[0m \u001b[1;32mimport\u001b[0m \u001b[0mdrive\u001b[0m\u001b[1;33m\u001b[0m\u001b[0m\n\u001b[0m\u001b[0;32m      2\u001b[0m \u001b[0mdrive\u001b[0m\u001b[1;33m.\u001b[0m\u001b[0mmount\u001b[0m\u001b[1;33m(\u001b[0m\u001b[1;34m'/content/drive/My Drive/Team Rocket/Train.csv'\u001b[0m\u001b[1;33m)\u001b[0m\u001b[1;33m\u001b[0m\u001b[0m\n",
      "\u001b[1;31mModuleNotFoundError\u001b[0m: No module named 'google'"
     ]
    }
   ],
   "source": [
    "from google.colab import drive\n",
    "drive.mount('/content/drive/My Drive/Team Rocket/Train.csv')"
   ]
  },
  {
   "cell_type": "code",
   "execution_count": null,
   "metadata": {
    "id": "shLapj2zxRA1"
   },
   "outputs": [],
   "source": [
    "# importing libraries\n",
    "import pandas as pd\n",
    "import numpy as np\n",
    "import matplotlib.pyplot as plt\n",
    "import seaborn as sns\n",
    "import random\n",
    "\n",
    "import warnings\n",
    "warnings.filterwarnings('ignore')"
   ]
  },
  {
   "cell_type": "markdown",
   "metadata": {
    "id": "S5xJMYdLxRA8"
   },
   "source": [
    "## TRAINING DATA SET"
   ]
  },
  {
   "cell_type": "markdown",
   "metadata": {
    "id": "afzaVBAGxRA9"
   },
   "source": [
    "### Step 1 : Reading and Inspecting the data set "
   ]
  },
  {
   "cell_type": "code",
   "execution_count": null,
   "metadata": {
    "colab": {
     "base_uri": "https://localhost:8080/",
     "height": 356
    },
    "id": "fQsiusSsxRA-",
    "outputId": "1736e45b-2257-4244-8a45-461239f72097"
   },
   "outputs": [],
   "source": [
    "# Importing the training file\n",
    "df = pd.read_csv('/content/drive/My Drive/Team Rocket/Train.csv')\n",
    "# Looking at the first five rows\n",
    "df.head()"
   ]
  },
  {
   "cell_type": "code",
   "execution_count": null,
   "metadata": {
    "colab": {
     "base_uri": "https://localhost:8080/",
     "height": 435
    },
    "id": "1Qj4iquyxRBF",
    "outputId": "d3aaf8bd-7448-4862-9114-f5a89df52af2"
   },
   "outputs": [],
   "source": [
    "df.info(verbose=True)"
   ]
  },
  {
   "cell_type": "code",
   "execution_count": null,
   "metadata": {
    "colab": {
     "base_uri": "https://localhost:8080/",
     "height": 35
    },
    "id": "pT4H3l0qxRBM",
    "outputId": "ec979938-34ae-4a6b-836c-f824f7f52896"
   },
   "outputs": [],
   "source": [
    "df.shape"
   ]
  },
  {
   "cell_type": "code",
   "execution_count": null,
   "metadata": {
    "colab": {
     "base_uri": "https://localhost:8080/",
     "height": 126
    },
    "id": "wuLrrfqgxRBQ",
    "outputId": "7816c787-2449-4391-e6d4-faf996be61b4"
   },
   "outputs": [],
   "source": [
    "df.columns"
   ]
  },
  {
   "cell_type": "code",
   "execution_count": null,
   "metadata": {
    "colab": {
     "base_uri": "https://localhost:8080/",
     "height": 308
    },
    "id": "kOtLFXmoxRBW",
    "outputId": "52be043f-cda3-4636-bdf6-48e4321bf1ab"
   },
   "outputs": [],
   "source": [
    "df.describe()"
   ]
  },
  {
   "cell_type": "markdown",
   "metadata": {
    "id": "XWbiKqXyxRBd"
   },
   "source": [
    "We can infer following informationfrom the above describe function:\n",
    "1. Price :The maximum price is 10000  where as the mean price is 153. It clearly indicates the presence of outliers. \n",
    "2. Similar is the case with the variables such as minimum_nights and number of reviews"
   ]
  },
  {
   "cell_type": "markdown",
   "metadata": {
    "id": "w55ETPhsxRBf"
   },
   "source": [
    "### Step 2 : Data Quality Checks and Handling Missing Values"
   ]
  },
  {
   "cell_type": "code",
   "execution_count": null,
   "metadata": {
    "colab": {
     "base_uri": "https://localhost:8080/",
     "height": 326
    },
    "id": "1c-Fp-7qxRBg",
    "outputId": "a1109dab-f8db-4eef-faac-ab5442dba1f4"
   },
   "outputs": [],
   "source": [
    "# columnwise null count for application data\n",
    "df.isnull().sum()"
   ]
  },
  {
   "cell_type": "code",
   "execution_count": null,
   "metadata": {
    "colab": {
     "base_uri": "https://localhost:8080/",
     "height": 326
    },
    "id": "YzCuAq_cxRBm",
    "outputId": "3b5be6bc-7f6c-4bde-b6a2-b8ed9c347de7"
   },
   "outputs": [],
   "source": [
    "#column-wise null percentage of the rental data\n",
    "df_col = round((df.isnull().sum()/len(df.index))*100,2)\n",
    "print(\"column wise percentage in rental data\", df_col)"
   ]
  },
  {
   "cell_type": "markdown",
   "metadata": {
    "id": "PllS6BPgxRBt"
   },
   "source": [
    " <b> We can notice that the variables last_review and reviews_per_month  have some NaN values.These are numeric varibles and this we can impute these NAN values with the appropriate measures such as mean and median. Further host_name and name alos have  few null values that could be  filled with the most frequent value since these are categorical variable. </b>"
   ]
  },
  {
   "cell_type": "markdown",
   "metadata": {
    "id": "x8Inqg0SxRBu"
   },
   "source": [
    "### 1. last_review"
   ]
  },
  {
   "cell_type": "code",
   "execution_count": null,
   "metadata": {
    "colab": {
     "base_uri": "https://localhost:8080/",
     "height": 235
    },
    "id": "WqckpN_1xRBv",
    "outputId": "385d0711-49c7-4aac-fef4-f19e8cd7613f"
   },
   "outputs": [],
   "source": [
    "df.last_review.value_counts()"
   ]
  },
  {
   "cell_type": "markdown",
   "metadata": {
    "id": "Fmt4pa0KxRB0"
   },
   "source": [
    "In last_review column there are 6982 null value rows.This accounts to about 20% of the missing values.The missing value of this variable can be handled by imputing with the  most frequent valie i.e 2019-06-23"
   ]
  },
  {
   "cell_type": "code",
   "execution_count": null,
   "metadata": {
    "id": "gojxjj9GxRB2"
   },
   "outputs": [],
   "source": [
    "df['last_review'].fillna('2019-06-23',inplace = True)"
   ]
  },
  {
   "cell_type": "code",
   "execution_count": null,
   "metadata": {
    "colab": {
     "base_uri": "https://localhost:8080/",
     "height": 326
    },
    "id": "VuqM0AxgxRB-",
    "outputId": "1d1833e0-49a2-4512-f485-47f9c5786afa"
   },
   "outputs": [],
   "source": [
    "# Lets again look at the column-wise null percentage of the rental data\n",
    "df_col = round((df.isnull().sum()/len(df.index))*100,2)\n",
    "print(\"column wise percentage in rental data\", df_col)"
   ]
  },
  {
   "cell_type": "markdown",
   "metadata": {
    "id": "Y1ZX8pkUxRCG"
   },
   "source": [
    "### 2. reviews_per_month"
   ]
  },
  {
   "cell_type": "code",
   "execution_count": null,
   "metadata": {
    "colab": {
     "base_uri": "https://localhost:8080/",
     "height": 181
    },
    "id": "-aOwd9e5xRCI",
    "outputId": "f9829ee5-a2a4-48e9-8da2-0e4b527a0f3a"
   },
   "outputs": [],
   "source": [
    "df.reviews_per_month.describe()"
   ]
  },
  {
   "cell_type": "markdown",
   "metadata": {
    "id": "0HUYhAVGxRCP"
   },
   "source": [
    "Here we can treat the missing values by imputing it with '0' since if we look at the column 'number of reviews' there are certain rows with 0 value. Since the reviews_per_month is calculated based on number of reviwes column , we can handled the missing values by replacing it with 0"
   ]
  },
  {
   "cell_type": "code",
   "execution_count": null,
   "metadata": {
    "id": "BqxAXz66xRCQ"
   },
   "outputs": [],
   "source": [
    "df.reviews_per_month = df.reviews_per_month.fillna(0)"
   ]
  },
  {
   "cell_type": "code",
   "execution_count": null,
   "metadata": {
    "colab": {
     "base_uri": "https://localhost:8080/",
     "height": 326
    },
    "id": "wRXkbJPmxRCa",
    "outputId": "1cd6329f-1dae-47c3-c1c1-9018fd196a33"
   },
   "outputs": [],
   "source": [
    "# Lets again look at the column-wise null percentage of the rental data\n",
    "df_col = round((df.isnull().sum()/len(df.index))*100,2)\n",
    "print(\"column wise percentage in rental data\", df_col)"
   ]
  },
  {
   "cell_type": "markdown",
   "metadata": {
    "id": "eQjsaetqxRCi"
   },
   "source": [
    "### 3. host_name\n"
   ]
  },
  {
   "cell_type": "code",
   "execution_count": null,
   "metadata": {
    "colab": {
     "base_uri": "https://localhost:8080/",
     "height": 235
    },
    "id": "3K_eYTSYxRCj",
    "outputId": "09211d2f-832a-4471-a790-766d9a23ab89"
   },
   "outputs": [],
   "source": [
    "df.host_name.value_counts()"
   ]
  },
  {
   "cell_type": "markdown",
   "metadata": {
    "id": "i6aWqs7SxRCs"
   },
   "source": [
    "The missing values in the column hist_name are almost negligible i.e 0.04%. Howeevr, still we can impute them with the frequent name occuring in the variable i.e Michael. Lets impute this value. "
   ]
  },
  {
   "cell_type": "code",
   "execution_count": null,
   "metadata": {
    "id": "ougD-JryxRCt"
   },
   "outputs": [],
   "source": [
    "df.host_name = df.host_name.fillna(\"Michael\")"
   ]
  },
  {
   "cell_type": "code",
   "execution_count": null,
   "metadata": {
    "colab": {
     "base_uri": "https://localhost:8080/",
     "height": 326
    },
    "id": "0l9wv8SwxRC1",
    "outputId": "e91851c5-d0f5-4854-ceab-d27fd1d42d4a"
   },
   "outputs": [],
   "source": [
    "# Lets again look at the column-wise null percentage of the rental data\n",
    "df_col = round((df.isnull().sum()/len(df.index))*100,2)\n",
    "print(\"column wise percentage in rental data\", df_col)"
   ]
  },
  {
   "cell_type": "markdown",
   "metadata": {
    "id": "4UeV0lS5xRC-"
   },
   "source": [
    "### 4. name"
   ]
  },
  {
   "cell_type": "code",
   "execution_count": null,
   "metadata": {
    "colab": {
     "base_uri": "https://localhost:8080/",
     "height": 235
    },
    "id": "xv-k-lXCxRC_",
    "outputId": "eedf1e09-2013-4046-a10e-b589e0626564",
    "scrolled": true
   },
   "outputs": [],
   "source": [
    "df.name.value_counts()"
   ]
  },
  {
   "cell_type": "markdown",
   "metadata": {
    "id": "IQiaLqp6xRDF"
   },
   "source": [
    "Like host_name , here again  we can impute them with the frequent name occuring in the variable i.e Michael. Lets impute this value. "
   ]
  },
  {
   "cell_type": "code",
   "execution_count": null,
   "metadata": {
    "id": "JqdAgHJAxRDH"
   },
   "outputs": [],
   "source": [
    "df.name = df.host_name.fillna(\"Home away from home\")"
   ]
  },
  {
   "cell_type": "code",
   "execution_count": null,
   "metadata": {
    "colab": {
     "base_uri": "https://localhost:8080/",
     "height": 326
    },
    "id": "NSSkgLVFxRDO",
    "outputId": "f95a43bb-f02e-45ef-c5bf-2cece041b5a9",
    "scrolled": true
   },
   "outputs": [],
   "source": [
    "# Lets again look at the column-wise null percentage of the rental data\n",
    "df_col = round((df.isnull().sum()/len(df.index))*100,2)\n",
    "print(\"column wise percentage in rental data\", df_col)"
   ]
  },
  {
   "cell_type": "markdown",
   "metadata": {},
   "source": [
    "#### Creating a column with lat,long tuples as we need this format to be the input for our haversine func.\n",
    "column lat_long_original added in train dataset and column lat_long added in airport dataset"
   ]
  },
  {
   "cell_type": "code",
   "execution_count": null,
   "metadata": {},
   "outputs": [],
   "source": [
    "airport = pd.read_csv('airports.csv')\n",
    "airport.head()"
   ]
  },
  {
   "cell_type": "code",
   "execution_count": null,
   "metadata": {},
   "outputs": [],
   "source": [
    "df_airport = pd.read_csv('train.csv')\n",
    "df_airport.head()"
   ]
  },
  {
   "cell_type": "code",
   "execution_count": null,
   "metadata": {},
   "outputs": [],
   "source": [
    "df_airport['lat_long_original'] = list(zip(df_airport.latitude,df_airport.longitude))"
   ]
  },
  {
   "cell_type": "code",
   "execution_count": null,
   "metadata": {},
   "outputs": [],
   "source": [
    "airport['lat_log']= list(zip(airport.latitude_deg, airport.longitude_deg))"
   ]
  },
  {
   "cell_type": "code",
   "execution_count": null,
   "metadata": {},
   "outputs": [],
   "source": [
    "airport['lat_log']"
   ]
  },
  {
   "cell_type": "code",
   "execution_count": null,
   "metadata": {},
   "outputs": [],
   "source": [
    "df_airport['lat_long_original']"
   ]
  },
  {
   "cell_type": "markdown",
   "metadata": {},
   "source": [
    "#### Adding a column for feature(airport_facility) and distance from the airport if within given range of 3.5 miles."
   ]
  },
  {
   "cell_type": "code",
   "execution_count": null,
   "metadata": {},
   "outputs": [],
   "source": [
    "df_airport['airport_facility']=pd.Series(data=0)\n",
    "df_airport['airport_distance']=pd.Series(data=0)"
   ]
  },
  {
   "cell_type": "code",
   "execution_count": null,
   "metadata": {},
   "outputs": [],
   "source": [
    "array_airport = []\n",
    "for i in airport['lat_log']:\n",
    "    array_airport = array_airport + [i]\n",
    "print(array_airport) "
   ]
  },
  {
   "cell_type": "code",
   "execution_count": null,
   "metadata": {},
   "outputs": [],
   "source": [
    "array_data = []\n",
    "for i in df_airport['lat_long_original']:\n",
    "    array_data = [i] *2\n",
    "    listofmiles =  np.round_(haversine_vector(array_data,array_airport,unit='mi'),decimals = 3) \n",
    "    listofmiles = list(filter(lambda x: x <3.5 and x>0 ,listofmiles))\n",
    "    if len(listofmiles)!=0:\n",
    "        df_airport.loc[df_airport['lat_long_original']==i, 'airport_facility'] = True\n",
    "        df_airport.loc[df_airport['lat_long_original']==i, 'airport_distance'] = min(listofmiles)\n",
    "    else:\n",
    "        df_airport.loc[df['lat_long_original']==i, 'airport_facility'] = False "
   ]
  },
  {
   "cell_type": "code",
   "execution_count": null,
   "metadata": {},
   "outputs": [],
   "source": [
    "plt_2 = df_airport['airport_facility'].value_counts()"
   ]
  },
  {
   "cell_type": "code",
   "execution_count": null,
   "metadata": {},
   "outputs": [],
   "source": [
    "airports_2 = sns.barplot(plt_2.index, plt_2.values)"
   ]
  },
  {
   "cell_type": "code",
   "execution_count": null,
   "metadata": {},
   "outputs": [],
   "source": [
    "airport = df_airport[df_airport['airport_facility']==True]\n",
    "print(airport.shape)\n",
    "airport_grp = airport['neighbourhood_group'].value_counts()\n",
    "airport_grp\n",
    "fig1 = sns.barplot(x = airport_grp.index, y = airport_grp)\n",
    "fig1.set(xlabel='neighbourhood_group', ylabel='count', title='Listings within 3.5 miles of airport')"
   ]
  },
  {
   "cell_type": "markdown",
   "metadata": {
    "id": "alZ603JNxRDU"
   },
   "source": [
    "### Step 3  EDA : UNIVARIATE ANALYSIS"
   ]
  },
  {
   "cell_type": "code",
   "execution_count": null,
   "metadata": {
    "colab": {
     "base_uri": "https://localhost:8080/",
     "height": 126
    },
    "id": "SagfrtnixRDU",
    "outputId": "65296cbd-9483-429a-b595-edb85147af13"
   },
   "outputs": [],
   "source": [
    "#for categorical variables\n",
    "categories = df.select_dtypes(include = 'object')\n",
    "list(enumerate(categories))\n"
   ]
  },
  {
   "cell_type": "code",
   "execution_count": null,
   "metadata": {
    "colab": {
     "base_uri": "https://localhost:8080/",
     "height": 443
    },
    "id": "jjyTxOP-xRDd",
    "outputId": "3e7bccd7-2edd-4c57-b01d-6642bee378c9"
   },
   "outputs": [],
   "source": [
    "plt.figure(figsize=(10,7))\n",
    "sns.countplot('neighbourhood_group',data=df)\n",
    "plt.show()"
   ]
  },
  {
   "cell_type": "markdown",
   "metadata": {
    "id": "9lrlV7o6xRDh"
   },
   "source": [
    "The above graph indicates that the areas staten Island and Bronx are under-represented in the data set. On the other hand Manhattan and Brooklyn are in high demand which are favorable palaces for house renting. "
   ]
  },
  {
   "cell_type": "code",
   "execution_count": null,
   "metadata": {
    "colab": {
     "base_uri": "https://localhost:8080/",
     "height": 372
    },
    "id": "vYyCY3DQxRDi",
    "outputId": "23dc8271-0d3a-49dd-d5c0-a36895253022"
   },
   "outputs": [],
   "source": [
    "df.neighbourhood.value_counts().head(10).plot.bar()"
   ]
  },
  {
   "cell_type": "markdown",
   "metadata": {
    "id": "9tKjqPRRxRDo"
   },
   "source": [
    "The neghborhood graph indicates that williamsburg and Beddford-Stuyvesant are the top two places for high rental demand. "
   ]
  },
  {
   "cell_type": "markdown",
   "metadata": {
    "id": "_36C-3RzxRDo"
   },
   "source": [
    "#### Thus the from the neighbourhood_group and neighbourhoof, we can infer the following results:\n",
    "Following combination are favorable place for house renting : \n",
    "1. Brooklyn with neighborhood like Willamburg , Bedford-Stuyvesant ,Bushwick.\n",
    "2. Manhattan with neighborhood like Harlem, Upper West Side and Hell's Kitchen.\n"
   ]
  },
  {
   "cell_type": "code",
   "execution_count": null,
   "metadata": {
    "colab": {
     "base_uri": "https://localhost:8080/",
     "height": 339
    },
    "id": "_GsX7aq8xRDr",
    "outputId": "fa2487da-3662-4689-f6a7-114440c1b9dc"
   },
   "outputs": [],
   "source": [
    "df.host_name.value_counts().head(10).plot.bar()"
   ]
  },
  {
   "cell_type": "code",
   "execution_count": null,
   "metadata": {
    "colab": {
     "base_uri": "https://localhost:8080/",
     "height": 443
    },
    "id": "s5JMXRODxRDw",
    "outputId": "39593f14-eb7a-4497-c892-4293fb5c9a32"
   },
   "outputs": [],
   "source": [
    "plt.figure(figsize=(7,7))\n",
    "sns.countplot('room_type',data=df)\n",
    "plt.show()"
   ]
  },
  {
   "cell_type": "markdown",
   "metadata": {
    "id": "2p144-LcxRD1"
   },
   "source": [
    "The above figure illustrates that rental demand for shared room is less as compared to the provate room and entire apartment. \n"
   ]
  },
  {
   "cell_type": "code",
   "execution_count": null,
   "metadata": {
    "colab": {
     "base_uri": "https://localhost:8080/",
     "height": 199
    },
    "id": "eZW9zJvRxRD2",
    "outputId": "d6438f35-6365-40ac-e696-04631a0edc8d"
   },
   "outputs": [],
   "source": [
    "#Continuous = ['latitude','longitude','price','minimum_nights','number_of_reviews','reviews_per_month','calculated_host_listings_count','availability_365']\n",
    "Continuous = df.select_dtypes(include = 'number')\n",
    "list(enumerate(Continuous))\n"
   ]
  },
  {
   "cell_type": "code",
   "execution_count": null,
   "metadata": {
    "colab": {
     "base_uri": "https://localhost:8080/",
     "height": 973
    },
    "id": "kJXv4lyRxRD_",
    "outputId": "3118ebe6-f4f2-4b64-dc88-2ecc0bd13d58"
   },
   "outputs": [],
   "source": [
    "list(enumerate(Continuous))\n",
    "plt.figure(figsize=(15,20))  \n",
    "for i in enumerate (Continuous):\n",
    "    plt.subplot(6,2,i[0]+1)\n",
    "    plt.tight_layout(pad=4.0)\n",
    "    sns.distplot(df[i[1]], hist = True , color = 'r')\n",
    "    plt.xticks(rotation=90)\n",
    "plt.show()"
   ]
  },
  {
   "cell_type": "code",
   "execution_count": null,
   "metadata": {
    "colab": {
     "base_uri": "https://localhost:8080/",
     "height": 199
    },
    "id": "tmLHb80CxREF",
    "outputId": "c395bc11-3d8b-4d49-d749-44acfbb44b25"
   },
   "outputs": [],
   "source": [
    "def detect_skew(df):\n",
    "    sk = df.skew()\n",
    "    skewed = sk[sk>0.6]\n",
    "    print('Greater than 0.6 \\n',skewed)\n",
    "detect_skew(Continuous)"
   ]
  },
  {
   "cell_type": "markdown",
   "metadata": {
    "id": "0KIHss0AxREL"
   },
   "source": [
    "Since most of the numerical variables are skewed rightwards , we decided to normalize these features by using logp1."
   ]
  },
  {
   "cell_type": "markdown",
   "metadata": {
    "id": "VNI0OCYuxREN"
   },
   "source": [
    "#### Correlation Analysis"
   ]
  },
  {
   "cell_type": "code",
   "execution_count": null,
   "metadata": {
    "colab": {
     "base_uri": "https://localhost:8080/",
     "height": 517
    },
    "id": "_kRZQvi2xREN",
    "outputId": "338ca718-329a-48f0-8244-33c14ece277b"
   },
   "outputs": [],
   "source": [
    "# Let's see the correlation matrix \n",
    "plt.figure(figsize = (20,10))       \n",
    "sns.heatmap(df.corr(),annot = True,cmap = 'coolwarm', linecolor = 'white', linewidths=0.1)\n",
    "plt.show()"
   ]
  },
  {
   "cell_type": "markdown",
   "metadata": {
    "id": "1d1HirDSxREX"
   },
   "source": [
    "The heat map delineates that correlation is low-medium (0.58) between number_of_reviews and reviews_per_month. In case of all other variables, the correlation is less than 0.50. Accordingly, there is no need to drop the columns."
   ]
  },
  {
   "cell_type": "markdown",
   "metadata": {
    "id": "u1wJ37kCxREY"
   },
   "source": [
    "### Bivariate Analysis"
   ]
  },
  {
   "cell_type": "code",
   "execution_count": null,
   "metadata": {
    "colab": {
     "base_uri": "https://localhost:8080/",
     "height": 747
    },
    "id": "ZJEll8kRxREZ",
    "outputId": "1e305eb3-7116-4718-9839-0aa107090f0a"
   },
   "outputs": [],
   "source": [
    "plt.figure(figsize = (15,5))\n",
    "sns.jointplot(x=df.latitude,y=df.longitude,size=10)\n",
    "plt.ylabel ('Longitude',fontsize=12)\n",
    "plt.xlabel('Latitude',fontsize =12)\n",
    "plt.show()"
   ]
  },
  {
   "cell_type": "markdown",
   "metadata": {
    "id": "aV7Sve0pxREg"
   },
   "source": [
    "The above Joinplot function helps to check the concentration of data . For latitude between 40.6 and 40.8 there are many houses , which would mean that  it’s an ideal location for rental .On the other hande, for  longitude we can see that concentration is high between -73.9 to -74 which indicates that most of the rental demand  has been for this particular location.\n"
   ]
  },
  {
   "cell_type": "code",
   "execution_count": null,
   "metadata": {
    "colab": {
     "base_uri": "https://localhost:8080/",
     "height": 299
    },
    "id": "0v3B_adNxREh",
    "outputId": "77c6e098-bcc5-4654-b678-a4b9455d0321"
   },
   "outputs": [],
   "source": [
    "plt.scatter(df.price,df.longitude)\n",
    "plt.title ('Price vs Location of the area')"
   ]
  },
  {
   "cell_type": "markdown",
   "metadata": {
    "id": "GzSBn7k9xREl"
   },
   "source": [
    "The above scatter plot tells us about the location of  the rental houses in terms of longitude and it gives us quite an interesting observation that  location between  -73.9 to -74 rent houses at much higher prices."
   ]
  },
  {
   "cell_type": "code",
   "execution_count": null,
   "metadata": {
    "colab": {
     "base_uri": "https://localhost:8080/",
     "height": 299
    },
    "id": "7ZvysiNAxREm",
    "outputId": "8f1edc7a-ab89-45d9-cb88-091eb92c8690"
   },
   "outputs": [],
   "source": [
    "plt.scatter(df.price,df.latitude)\n",
    "plt.title ('Price vs Location of the area')"
   ]
  },
  {
   "cell_type": "markdown",
   "metadata": {
    "id": "GAtZtsmbxREs"
   },
   "source": [
    "The above scatter plot tells us about the location of the rental houses in terms of latitude and we can infer that the location between 40.6 to 40.8 rent houses at much higher prices."
   ]
  },
  {
   "cell_type": "code",
   "execution_count": null,
   "metadata": {
    "colab": {
     "base_uri": "https://localhost:8080/",
     "height": 299
    },
    "id": "99woDqkKxREt",
    "outputId": "f8d36466-4207-4768-a1ff-21eb47c48c73"
   },
   "outputs": [],
   "source": [
    "plt.scatter(df.price,df.minimum_nights)\n",
    "plt.title ('Price vs minimum_nights')"
   ]
  },
  {
   "cell_type": "markdown",
   "metadata": {
    "id": "_KBqi01UxREz"
   },
   "source": [
    "#### THE ABOVE ANALYSIS OF LONGITUDE AND LATITUDE clearly indicates that since the most of the rental demand is concentrated between  -73.9 to -74  (longitude ) and 40.6 and 40.8 (latitude), the price is also high in this location. Accordingly, more investment could be considered in this location."
   ]
  },
  {
   "cell_type": "code",
   "execution_count": null,
   "metadata": {
    "colab": {
     "base_uri": "https://localhost:8080/",
     "height": 337
    },
    "id": "LmZgeD0-xRE0",
    "outputId": "a471b3fa-14f1-4184-b307-456060e74cf9",
    "scrolled": true
   },
   "outputs": [],
   "source": [
    "plt.figure(figsize = (10,5))\n",
    "sns.scatterplot(x=df.latitude,y=df.longitude, hue = df.neighbourhood_group)\n",
    "plt.ylabel ('Longitude',fontsize=12)\n",
    "plt.xlabel('Latitude',fontsize =12)\n",
    "plt.show()"
   ]
  },
  {
   "cell_type": "markdown",
   "metadata": {
    "id": "esIk4wMnxRE5"
   },
   "source": [
    "The above figure indicates that in addition to Manhattan and Brooklyn, the rental demand is high in their adjacent areas such as Queens and Bronx.\n"
   ]
  },
  {
   "cell_type": "code",
   "execution_count": null,
   "metadata": {
    "colab": {
     "base_uri": "https://localhost:8080/",
     "height": 336
    },
    "id": "JKqmkTABxRE6",
    "outputId": "5e3c3285-6589-460c-f660-42d4944adeb4"
   },
   "outputs": [],
   "source": [
    "plt.tight_layout(pad=4.0)\n",
    "sns.countplot(df.neighbourhood_group, hue =  df.room_type)\n",
    "plt.xticks(rotation=90)\n",
    "plt.show()"
   ]
  },
  {
   "cell_type": "markdown",
   "metadata": {
    "id": "tzkVD6vRxRFB"
   },
   "source": [
    "We can infer following from the above graph:\n",
    "1. While the Entire home/Apartment and Private room are more in demand  in Manhattan, the demand of private room and entire home apartment are almost same in Brooklyn.\n",
    "2. Shared Room are not much in demand in any of the neighborhood.\n"
   ]
  },
  {
   "cell_type": "code",
   "execution_count": null,
   "metadata": {
    "colab": {
     "base_uri": "https://localhost:8080/",
     "height": 390
    },
    "id": "_Z4vFHyCxRFE",
    "outputId": "54e10f3d-36ef-43c4-fbff-4714e1f64f8b"
   },
   "outputs": [],
   "source": [
    "plt.figure(figsize = (10,5))\n",
    "plt.tight_layout(pad=4.0)\n",
    "sns.boxplot( x = df.neighbourhood_group, y = df.price , hue = df.room_type)\n",
    "plt.yscale('log')\n",
    "plt.xticks(rotation=90)\n",
    "plt.show()"
   ]
  },
  {
   "cell_type": "markdown",
   "metadata": {
    "id": "DNoqf8iRxRFK"
   },
   "source": [
    "Prices of all room_type are higher in Manhattan. This reflects more investment in this area for more revenue generation. Further, there is no need to invest in shared room type since there is no demand of such rooms."
   ]
  },
  {
   "cell_type": "markdown",
   "metadata": {
    "id": "UbigOQYKxRFL"
   },
   "source": [
    "### Identifying the Outliers"
   ]
  },
  {
   "cell_type": "code",
   "execution_count": null,
   "metadata": {
    "id": "g5SrRgrmxRFM"
   },
   "outputs": [],
   "source": [
    "# Outliers\n",
    "#plt.figure(figsize = (30,10))\n",
    "#for i in enumerate(Continuous):\n",
    "  #  plt.subplot(3,3, i[0]+1)\n",
    "   # sns.boxplot(df[i[1]])"
   ]
  },
  {
   "cell_type": "markdown",
   "metadata": {
    "id": "4HEnqEwXxRFV"
   },
   "source": [
    "The box plot analysis indicates the presence of outliers in almost all factors."
   ]
  },
  {
   "cell_type": "code",
   "execution_count": null,
   "metadata": {
    "colab": {
     "base_uri": "https://localhost:8080/",
     "height": 428
    },
    "id": "STcaiVcZxRFY",
    "outputId": "d4e0eceb-fe98-45f4-af0f-9f4f09b9f232"
   },
   "outputs": [],
   "source": [
    "#checking the outliers at 25%, 50%, 75%, 90%,95% and 99%\n",
    "numeric = df[['latitude','longitude', 'price','minimum_nights','number_of_reviews','reviews_per_month','calculated_host_listings_count']]\n",
    "numeric.describe(percentiles=[.25,.5,.75,.90,.95,.98,.99])"
   ]
  },
  {
   "cell_type": "code",
   "execution_count": null,
   "metadata": {
    "colab": {
     "base_uri": "https://localhost:8080/",
     "height": 297
    },
    "id": "R-Th-lxkxRFl",
    "outputId": "2bb7e8e3-a067-410e-d8a2-8b69e8569dc2"
   },
   "outputs": [],
   "source": [
    "# capping the outeliers for price\n",
    "q = df['price'].quantile(0.90)\n",
    "df['price'][df['price']>=q] = q\n",
    "sns.boxplot(df['price'])"
   ]
  },
  {
   "cell_type": "code",
   "execution_count": null,
   "metadata": {
    "colab": {
     "base_uri": "https://localhost:8080/",
     "height": 298
    },
    "id": "OeMwItdoxRFs",
    "outputId": "b0464df9-e46f-41c2-a261-17ae7eb7a864"
   },
   "outputs": [],
   "source": [
    "# capping the outeliers for minimum_nights\n",
    "q = df['minimum_nights'].quantile(0.80)\n",
    "df['minimum_nights'][df['minimum_nights']>=q] = q\n",
    "sns.boxplot(df['minimum_nights'])"
   ]
  },
  {
   "cell_type": "code",
   "execution_count": null,
   "metadata": {
    "colab": {
     "base_uri": "https://localhost:8080/",
     "height": 298
    },
    "id": "s5i1toqMxRFx",
    "outputId": "5bfaa1a6-429f-44ea-f656-a6983f1ad11c"
   },
   "outputs": [],
   "source": [
    "# capping the outeliers for price\n",
    "q = df['number_of_reviews'].quantile(0.85)\n",
    "df['number_of_reviews'][df['number_of_reviews']>=q] = q\n",
    "sns.boxplot(df['number_of_reviews'])"
   ]
  },
  {
   "cell_type": "code",
   "execution_count": null,
   "metadata": {
    "colab": {
     "base_uri": "https://localhost:8080/",
     "height": 298
    },
    "id": "Q0i4FklfxRF2",
    "outputId": "1759b972-e090-4473-acc7-8e8d42a5d9db"
   },
   "outputs": [],
   "source": [
    "# capping the outeliers for 'reviews_per_month'\n",
    "q = df['reviews_per_month'].quantile(0.90)\n",
    "df['reviews_per_month'][df['reviews_per_month']>=q] = q\n",
    "sns.boxplot(df['reviews_per_month'])"
   ]
  },
  {
   "cell_type": "code",
   "execution_count": null,
   "metadata": {
    "colab": {
     "base_uri": "https://localhost:8080/",
     "height": 298
    },
    "id": "aijQTI_LxRF7",
    "outputId": "50e9581e-0dd9-47d7-9c6a-ea51526336f3"
   },
   "outputs": [],
   "source": [
    "# capping the outeliers for calculated_host_listings_count\n",
    "q = df['calculated_host_listings_count'].quantile(0.85)\n",
    "df['calculated_host_listings_count'][df['calculated_host_listings_count']>=q] = q\n",
    "sns.boxplot(df['calculated_host_listings_count'])"
   ]
  },
  {
   "cell_type": "code",
   "execution_count": null,
   "metadata": {
    "colab": {
     "base_uri": "https://localhost:8080/",
     "height": 297
    },
    "id": "Za70l8KNxRGA",
    "outputId": "01189ab3-7981-4ab7-a35b-86001e4d3c80"
   },
   "outputs": [],
   "source": [
    "# capping the outeliers for latitude (upper range)\n",
    "q = df['latitude'].quantile(0.90)\n",
    "df['latitude'][df['latitude']>=q] = q\n",
    "sns.boxplot(df['latitude'])\n"
   ]
  },
  {
   "cell_type": "code",
   "execution_count": null,
   "metadata": {
    "colab": {
     "base_uri": "https://localhost:8080/",
     "height": 297
    },
    "id": "wbj3PWpLxRGG",
    "outputId": "49d03dc9-65d0-4954-8962-89e44ef515ff"
   },
   "outputs": [],
   "source": [
    "# capping the outeliers for latitude(lower range)\n",
    "q = df['latitude'].quantile(0.20)\n",
    "df['latitude'][df['latitude']<=q] = q\n",
    "sns.boxplot(df['latitude'])"
   ]
  },
  {
   "cell_type": "code",
   "execution_count": null,
   "metadata": {
    "colab": {
     "base_uri": "https://localhost:8080/",
     "height": 297
    },
    "id": "oPN0QEQOxRGJ",
    "outputId": "dc96307f-6253-45c6-b943-a34318165431"
   },
   "outputs": [],
   "source": [
    "# capping the outeliers for longitude (upper range)\n",
    "q = df['longitude'].quantile(0.90)\n",
    "df['longitude'][df['longitude']>=q] = q\n",
    "sns.boxplot(df['longitude'])\n"
   ]
  },
  {
   "cell_type": "code",
   "execution_count": null,
   "metadata": {
    "colab": {
     "base_uri": "https://localhost:8080/",
     "height": 297
    },
    "id": "DzedykTWxRGN",
    "outputId": "cc0ae235-dc8f-4bdb-b0fc-3efd4584e0ad"
   },
   "outputs": [],
   "source": [
    "# capping the outeliers for longitude (lower range)\n",
    "q = df['longitude'].quantile(0.20)\n",
    "df['longitude'][df['longitude']<=q] = q\n",
    "sns.boxplot(df['longitude'])\n"
   ]
  },
  {
   "cell_type": "markdown",
   "metadata": {
    "id": "8W1YT-kjxRGe"
   },
   "source": [
    "### Step 4 : Data Preparation and adding new features "
   ]
  },
  {
   "cell_type": "markdown",
   "metadata": {
    "id": "QXvuuFETxRGg"
   },
   "source": [
    "### 1.MONTHS (SESAONALITY) : It has been extraxted from last_review column to check seasonality"
   ]
  },
  {
   "cell_type": "code",
   "execution_count": null,
   "metadata": {
    "colab": {
     "base_uri": "https://localhost:8080/",
     "height": 254
    },
    "id": "JC6Yy2P5xRGk",
    "outputId": "e33c6fd5-8300-4b20-d7f0-19d202085b11"
   },
   "outputs": [],
   "source": [
    "df['last_review'] = pd.to_datetime(df.last_review,format='%Y-%m-%d')\n",
    "df['Months'] = df.last_review.dt.strftime('%m')\n",
    "df.Months.value_counts()"
   ]
  },
  {
   "cell_type": "code",
   "execution_count": null,
   "metadata": {
    "colab": {
     "base_uri": "https://localhost:8080/",
     "height": 254
    },
    "id": "-CsoJ_ZqxRGq",
    "outputId": "3551b4e6-97fb-436f-d518-9f06d8188a4c"
   },
   "outputs": [],
   "source": [
    "#Lets map the variable Months\n",
    "df['Months'] = df['Months'].astype(int)\n",
    "df['Months'] = df['Months'].map({1:'jan',2:'feb',3:'mar', 4:'apr',5:'may',6:'jun', 7:'jul',8:'aug',9:'sep',10 :'oct',11:'nov',12:'dec'})\n",
    "df.Months.value_counts()"
   ]
  },
  {
   "cell_type": "markdown",
   "metadata": {
    "id": "_DRwkzXRxRGw"
   },
   "source": [
    "####  We observe the following variables are irrelevant . Lets drop these variables \n",
    "1. name\n",
    "2. Id\n",
    "3. host_name\n",
    "4. last_review\n",
    "5. neighbourhood"
   ]
  },
  {
   "cell_type": "code",
   "execution_count": null,
   "metadata": {
    "colab": {
     "base_uri": "https://localhost:8080/",
     "height": 305
    },
    "id": "9GBn1wgBxRGx",
    "outputId": "0ccd342c-0b44-4510-c404-082cbf6b1dc2"
   },
   "outputs": [],
   "source": [
    "df.drop(['id','name','host_name','last_review','neighbourhood'],1,inplace=True)\n",
    "df.head()"
   ]
  },
  {
   "cell_type": "markdown",
   "metadata": {
    "id": "3WcD2VDvxRG8"
   },
   "source": [
    "### 3.  Lets us create the dummy variables for categorical values"
   ]
  },
  {
   "cell_type": "code",
   "execution_count": null,
   "metadata": {
    "id": "jnnMhX77xRG8"
   },
   "outputs": [],
   "source": [
    "month_dummy = pd.get_dummies(df['Months'],drop_first = True)\n",
    "df = pd.concat([df,month_dummy], axis =1)\n",
    "\n",
    "room_dummy = pd.get_dummies(df['room_type'],drop_first = True)\n",
    "df = pd.concat([df,room_dummy], axis =1)\n",
    "\n",
    "neighbourhood_group_dummy = pd.get_dummies(df['neighbourhood_group'],drop_first = True)\n",
    "df = pd.concat([df,neighbourhood_group_dummy], axis =1)\n",
    "\n"
   ]
  },
  {
   "cell_type": "code",
   "execution_count": null,
   "metadata": {
    "colab": {
     "base_uri": "https://localhost:8080/",
     "height": 322
    },
    "id": "Qx-jRPHfxRHB",
    "outputId": "b01b7039-903a-4e5e-eaa1-9b1418aef9b3"
   },
   "outputs": [],
   "source": [
    "df.head()"
   ]
  },
  {
   "cell_type": "code",
   "execution_count": null,
   "metadata": {
    "colab": {
     "base_uri": "https://localhost:8080/",
     "height": 235
    },
    "id": "QqRDYYCYxRHG",
    "outputId": "3d233f52-10a4-4248-9036-802e86bd4dbb"
   },
   "outputs": [],
   "source": [
    "# Drop month, room_type and neighbourhood_group as we have created the dummies for it\n",
    "\n",
    "df = df.drop(['Months','room_type','neighbourhood_group'], axis = 1)\n",
    "df.head()"
   ]
  },
  {
   "cell_type": "code",
   "execution_count": null,
   "metadata": {
    "colab": {
     "base_uri": "https://localhost:8080/",
     "height": 585
    },
    "id": "6I6TwKQixRHK",
    "outputId": "b41b0682-58eb-4be7-d303-43eccc9967c7"
   },
   "outputs": [],
   "source": [
    "# Let's check the correlation coefficients to see which variables are highly correlated\n",
    "\n",
    "plt.figure(figsize = (25, 15))\n",
    "sns.heatmap(df.corr(), annot = True, cmap=\"YlGnBu\")\n",
    "plt.show()"
   ]
  },
  {
   "cell_type": "code",
   "execution_count": null,
   "metadata": {
    "colab": {
     "base_uri": "https://localhost:8080/",
     "height": 145
    },
    "id": "X2yKlDD2xRHO",
    "outputId": "f7c9bf99-5bc1-451e-b08a-2a6ecdb7de9b"
   },
   "outputs": [],
   "source": [
    "df.columns"
   ]
  },
  {
   "cell_type": "markdown",
   "metadata": {
    "id": "GRDjRKc7xRHS"
   },
   "source": [
    "***Through this exploratory data analysis and visualization project, we gained several interesting insights into the rental market***\n",
    "a) Does the variables such as location , room_type ,availability of property impact the rental price? \n",
    "\n",
    "The EDA analysis indicates that Manhattan has the most expensive rentals as compared to the other neighbourhood.Further,the rental demand for shared room is less as compared to the provate room and entire apartment.\n",
    "\n",
    "\n",
    "b) Does the minimum nights clause decrease the rental price ?\n",
    "\n",
    "There seems to be no correlation between minimum nights and price \n",
    "\n",
    "c) Does the seasonality impact the prices?\n",
    "\n",
    "The demand ( it can be inferred from the umber of reviews) shows a seasonal pattern - demand increases from May to July. It cleraly indicated that most people traveled during this month to the tourist spots.\n",
    "\n",
    "\n",
    "d) Is there any correlation between rental demand and prices?\n",
    "\n",
    "The ALYSIS OF LONGITUDE AND LATITUDE clearly indicates that since the most of the rental demand is concentrated between -73.9 to -74 (longitude ) and 40.6 and 40.8 (latitude), the price is also high in this location. Accordingly, there is strong correlation between rental demand and price."
   ]
  },
  {
   "cell_type": "markdown",
   "metadata": {
    "id": "ivPJRRfcxRHT"
   },
   "source": [
    "### 5. Model Building on the Training Data : LINEAR REGRESSION "
   ]
  },
  {
   "cell_type": "markdown",
   "metadata": {
    "id": "2liKa8EjxRHU"
   },
   "source": [
    "#### In order to deal with the skweness, we have to use logp1\n"
   ]
  },
  {
   "cell_type": "code",
   "execution_count": null,
   "metadata": {
    "colab": {
     "base_uri": "https://localhost:8080/",
     "height": 445
    },
    "id": "eVEyFUtoxRHV",
    "outputId": "16407bfd-54e1-4b64-cbbc-5c43e8cff8d5"
   },
   "outputs": [],
   "source": [
    "Numeric = ['price','minimum_nights','number_of_reviews','reviews_per_month','calculated_host_listings_count','availability_365']\n",
    "\n",
    "df[Numeric] = np.log1p(df[Numeric])\n",
    "df\n",
    "\n"
   ]
  },
  {
   "cell_type": "markdown",
   "metadata": {
    "id": "CkziCWvGxRHY"
   },
   "source": [
    "1. Performing a train-test split "
   ]
  },
  {
   "cell_type": "code",
   "execution_count": null,
   "metadata": {
    "colab": {
     "base_uri": "https://localhost:8080/",
     "height": 235
    },
    "id": "V8EKpzu_xRHZ",
    "outputId": "00dc6004-3277-46d4-e130-2e71b74b4721"
   },
   "outputs": [],
   "source": [
    "from sklearn.model_selection import train_test_split\n",
    "\n",
    "\n",
    "np.random.seed(0)\n",
    "df_train, df_test = train_test_split(df, train_size = 0.7, test_size = 0.3, random_state = 100)\n",
    "\n",
    "df_test.shape\n",
    "df.head()\n"
   ]
  },
  {
   "cell_type": "markdown",
   "metadata": {
    "id": "YRNz2Q6RxRHe"
   },
   "source": [
    "2. Dividing into X and Y sets for the model building"
   ]
  },
  {
   "cell_type": "code",
   "execution_count": null,
   "metadata": {
    "colab": {
     "base_uri": "https://localhost:8080/",
     "height": 235
    },
    "id": "DOmFWdu3xRHe",
    "outputId": "9e3fba18-a785-4090-a203-be4251b21482"
   },
   "outputs": [],
   "source": [
    "X_train = df_train.drop(['price'],1)\n",
    "y_train = df_train['price']\n",
    "from sklearn.preprocessing import MinMaxScaler\n",
    "scaler = MinMaxScaler()\n",
    "# Apply scaler() to all the columns except the 'yes-no' and 'dummy' variables\n",
    "num_vars = ['latitude','longitude','price','minimum_nights','number_of_reviews','reviews_per_month','calculated_host_listings_count','availability_365']\n",
    "\n",
    "df_train[num_vars] = scaler.fit_transform(df_train[num_vars])\n",
    "df.head()"
   ]
  },
  {
   "cell_type": "code",
   "execution_count": null,
   "metadata": {
    "colab": {
     "base_uri": "https://localhost:8080/",
     "height": 126
    },
    "id": "gzv2UH7yxRHg",
    "outputId": "8b29994c-1e78-4ec9-d3a6-0b110bbddd11"
   },
   "outputs": [],
   "source": [
    "y_train.head()"
   ]
  },
  {
   "cell_type": "markdown",
   "metadata": {
    "id": "BOEnxHtwxRHj"
   },
   "source": [
    "3. Feature Selection "
   ]
  },
  {
   "cell_type": "code",
   "execution_count": null,
   "metadata": {
    "id": "sekb0bwDxRHj"
   },
   "outputs": [],
   "source": [
    "from sklearn.feature_selection import RFE\n",
    "from sklearn.linear_model import LinearRegression\n",
    "ln = LinearRegression()\n",
    "ln.fit(X_train, y_train)\n",
    "rfe = RFE(ln,15)\n",
    "rfe = rfe.fit(X_train, y_train)"
   ]
  },
  {
   "cell_type": "code",
   "execution_count": null,
   "metadata": {
    "colab": {
     "base_uri": "https://localhost:8080/",
     "height": 472
    },
    "id": "Ga7cjey8xRHm",
    "outputId": "ec2274c3-3c6c-4bbb-fc69-b3fab6f678e0"
   },
   "outputs": [],
   "source": [
    "list(zip(X_train.columns,rfe.support_,rfe.ranking_))"
   ]
  },
  {
   "cell_type": "code",
   "execution_count": null,
   "metadata": {
    "colab": {
     "base_uri": "https://localhost:8080/",
     "height": 108
    },
    "id": "KrwcFHRcxRHp",
    "outputId": "c28fab7c-d40a-45de-c9ef-f74cc1d44dab"
   },
   "outputs": [],
   "source": [
    "col = X_train.columns[rfe.support_]\n",
    "col"
   ]
  },
  {
   "cell_type": "code",
   "execution_count": null,
   "metadata": {
    "colab": {
     "base_uri": "https://localhost:8080/",
     "height": 72
    },
    "id": "RNpncrwNxRHs",
    "outputId": "c309dcde-fc6d-41e5-92df-e47d6989fd2b"
   },
   "outputs": [],
   "source": [
    "X_train.columns[~rfe.support_]"
   ]
  },
  {
   "cell_type": "markdown",
   "metadata": {
    "id": "U1YFz3G7xRHx"
   },
   "source": [
    "4. Fitting the Model"
   ]
  },
  {
   "cell_type": "code",
   "execution_count": null,
   "metadata": {
    "id": "GkdNTIjexRHy"
   },
   "outputs": [],
   "source": [
    "import statsmodels.api as sm\n",
    "\n",
    "\n",
    "X_train_lm = X_train[['latitude', 'longitude', 'minimum_nights', 'reviews_per_month',\n",
    "       'calculated_host_listings_count', 'availability_365', 'feb', 'mar',\n",
    "       'oct', 'Private room', 'Shared room', 'Brooklyn', 'Manhattan', 'Queens',\n",
    "       'Staten Island']]\n",
    "X_train_lm = sm.add_constant(X_train_lm)\n",
    "\n",
    "# Create a first fitted model\n",
    "lr = sm.OLS(y_train, X_train_lm).fit()\n"
   ]
  },
  {
   "cell_type": "code",
   "execution_count": null,
   "metadata": {
    "colab": {
     "base_uri": "https://localhost:8080/",
     "height": 763
    },
    "id": "ge6NLt5SxRH2",
    "outputId": "b17fefbf-8bf7-4cbc-98c7-c9b2f8fa36f5",
    "scrolled": true
   },
   "outputs": [],
   "source": [
    "# Print a summary of the linear regression model obtained\n",
    "print(lr.summary())"
   ]
  },
  {
   "cell_type": "markdown",
   "metadata": {
    "id": "U3RSuaZWxRH5"
   },
   "source": [
    "#### The R-squared value obtained is 0.53. All the variables are sigicicant at the significance level of 5%. Let have a look at the VIF to check multocollinearity."
   ]
  },
  {
   "cell_type": "code",
   "execution_count": null,
   "metadata": {
    "colab": {
     "base_uri": "https://localhost:8080/",
     "height": 498
    },
    "id": "FVcN9oGrxRH6",
    "outputId": "7c47b13e-4538-4796-890f-a30ffa03847d",
    "scrolled": true
   },
   "outputs": [],
   "source": [
    "# calculate the VIF\n",
    "from statsmodels.stats.outliers_influence import variance_inflation_factor\n",
    "vif = pd.DataFrame()\n",
    "x = X_train_lm.drop(['const'],axis=1)\n",
    "vif['Features'] = x.columns\n",
    "vif['VIF'] = [variance_inflation_factor(x.values,i) for i in range (x.shape[1])]\n",
    "vif['VIF'] = round(vif['VIF'],2)\n",
    "vif=vif.sort_values(by = 'VIF',ascending = False)\n",
    "vif"
   ]
  },
  {
   "cell_type": "markdown",
   "metadata": {
    "id": "0ry37_jaxRH_"
   },
   "source": [
    "### The p value of 'Staten Island' is not  significant at 5% level. Lets drop this variable in the next model. \n",
    "\n",
    "### Updating the model : removing variable 'longitude'\n"
   ]
  },
  {
   "cell_type": "code",
   "execution_count": null,
   "metadata": {
    "colab": {
     "base_uri": "https://localhost:8080/",
     "height": 745
    },
    "id": "540wQAySxRIA",
    "outputId": "876155ca-8f57-4089-9e2b-83df3729bb98",
    "scrolled": true
   },
   "outputs": [],
   "source": [
    "# Build a linear model\n",
    "\n",
    "X_train_new = X_train_lm.drop(['longitude'],axis=1)\n",
    "X_train_new= sm.add_constant(X_train_new)\n",
    "lr_1=sm.OLS(y_train, X_train_new).fit()\n",
    "print (lr_1.summary())"
   ]
  },
  {
   "cell_type": "markdown",
   "metadata": {
    "id": "QgN9_iBkxRIF"
   },
   "source": [
    "#### R square value is  53% even after removing `longitude` variable and all other variables are significant. Lets check VIF"
   ]
  },
  {
   "cell_type": "code",
   "execution_count": null,
   "metadata": {
    "colab": {
     "base_uri": "https://localhost:8080/",
     "height": 468
    },
    "id": "SqbnCkpIxRIG",
    "outputId": "05f81e5f-362a-4c3a-d314-302bf438a164",
    "scrolled": true
   },
   "outputs": [],
   "source": [
    "vif = pd.DataFrame()\n",
    "x = X_train_new.drop(['const'],axis=1)\n",
    "vif['Features'] =x.columns\n",
    "vif['VIF'] = [variance_inflation_factor(x.values,i) for i in range (x.shape[1])]\n",
    "vif['VIF'] = round(vif['VIF'],2)\n",
    "vif=vif.sort_values(by = 'VIF',ascending = False)\n",
    "vif"
   ]
  },
  {
   "cell_type": "markdown",
   "metadata": {
    "id": "qaUX__sexRIX"
   },
   "source": [
    "***Now as you can see, the VIFs values are very high and Queens is insignificant . So lets drop variable 'Queens'  and run the model again***"
   ]
  },
  {
   "cell_type": "code",
   "execution_count": null,
   "metadata": {
    "colab": {
     "base_uri": "https://localhost:8080/",
     "height": 745
    },
    "id": "iAlhnbr3xRIZ",
    "outputId": "dd13f38c-80d6-4140-a368-6e29b4d1f166",
    "scrolled": true
   },
   "outputs": [],
   "source": [
    "X_train_lm = X_train_new.drop(['Queens'],axis=1)\n",
    "X_train_lm= sm.add_constant(X_train_lm)\n",
    "lr_2=sm.OLS(y_train, X_train_new).fit()\n",
    "print (lr_2.summary())"
   ]
  },
  {
   "cell_type": "code",
   "execution_count": null,
   "metadata": {
    "colab": {
     "base_uri": "https://localhost:8080/",
     "height": 438
    },
    "id": "q5DflVw1xRIe",
    "outputId": "c65c2fac-624f-4c24-88d3-1f9d686f19f4",
    "scrolled": true
   },
   "outputs": [],
   "source": [
    "vif = pd.DataFrame()\n",
    "x = X_train_lm.drop(['const'],axis=1)\n",
    "vif['Features'] =x.columns\n",
    "vif['VIF'] = [variance_inflation_factor(x.values,i) for i in range (x.shape[1])]\n",
    "vif['VIF'] = round(vif['VIF'],2)\n",
    "vif=vif.sort_values(by = 'VIF',ascending = False)\n",
    "vif"
   ]
  },
  {
   "cell_type": "markdown",
   "metadata": {
    "id": "l3IKqHDjxRIo"
   },
   "source": [
    "*** Again VIF is very high, lets remove 'latitude' column and run the model***"
   ]
  },
  {
   "cell_type": "code",
   "execution_count": null,
   "metadata": {
    "colab": {
     "base_uri": "https://localhost:8080/",
     "height": 672
    },
    "id": "1Lmf-d3dxRIq",
    "outputId": "aa45fa10-372a-4f44-8592-b2976cdcdcf6"
   },
   "outputs": [],
   "source": [
    "X_train_lr = X_train_lm.drop(['latitude'],axis=1)\n",
    "X_train_lr= sm.add_constant(X_train_lr)\n",
    "lr_3=sm.OLS(y_train, X_train_lr).fit()\n",
    "print (lr_3.summary())"
   ]
  },
  {
   "cell_type": "code",
   "execution_count": null,
   "metadata": {
    "colab": {
     "base_uri": "https://localhost:8080/",
     "height": 408
    },
    "id": "5qPnsiyuxRIu",
    "outputId": "66de8195-e4ae-4462-b26b-724e005bb473"
   },
   "outputs": [],
   "source": [
    "vif = pd.DataFrame()\n",
    "x = X_train_lr.drop(['const'],axis=1)\n",
    "vif['Features'] =x.columns\n",
    "vif['VIF'] = [variance_inflation_factor(x.values,i) for i in range (x.shape[1])]\n",
    "vif['VIF'] = round(vif['VIF'],2)\n",
    "vif=vif.sort_values(by = 'VIF',ascending = False)\n",
    "vif"
   ]
  },
  {
   "cell_type": "markdown",
   "metadata": {
    "id": "c70oszt0xRIz"
   },
   "source": [
    "***The above table indicates that VIF of minimum nights cloumn is high. Lets drop this column and run the model***"
   ]
  },
  {
   "cell_type": "code",
   "execution_count": null,
   "metadata": {
    "colab": {
     "base_uri": "https://localhost:8080/",
     "height": 654
    },
    "id": "gEIJytdGxRI0",
    "outputId": "9ef957df-6299-46ed-e7aa-7fe5defbe504",
    "scrolled": true
   },
   "outputs": [],
   "source": [
    "X_train_re = X_train_lr.drop(['calculated_host_listings_count'],axis=1)\n",
    "X_train_re= sm.add_constant(X_train_re)\n",
    "lr_4=sm.OLS(y_train, X_train_re).fit()\n",
    "print (lr_4.summary())"
   ]
  },
  {
   "cell_type": "code",
   "execution_count": null,
   "metadata": {
    "colab": {
     "base_uri": "https://localhost:8080/",
     "height": 378
    },
    "id": "KgzQHR5RxRI9",
    "outputId": "36c1a302-60f9-4ab9-9fed-9f96ff4e519c",
    "scrolled": false
   },
   "outputs": [],
   "source": [
    "vif = pd.DataFrame()\n",
    "x = X_train_re.drop(['const'],axis=1)\n",
    "vif['Features'] =x.columns\n",
    "vif['VIF'] = [variance_inflation_factor(x.values,i) for i in range (x.shape[1])]\n",
    "vif['VIF'] = round(vif['VIF'],2)\n",
    "vif=vif.sort_values(by = 'VIF',ascending = False)\n",
    "vif"
   ]
  },
  {
   "cell_type": "markdown",
   "metadata": {
    "id": "F0jh5rzQxRJA"
   },
   "source": [
    "Thus, this model is the final model where all variables are significant at 5% level with 53% R square. The most important variables explaining the variation in cnt variable are :\n",
    "\n",
    "\n",
    "\n",
    "1. Shared Room\n",
    "2. Private room\n",
    "3. Manhathan\n",
    "4. Brooklyn\n",
    "5. availability_365\n",
    "6. reviews_per_month\n",
    "7. minimum_nights\n",
    ".\n",
    "Further the VIF value of all variables are also in within range (less than 6%)\n",
    "Thus, this is the FINAL MODEL"
   ]
  },
  {
   "cell_type": "markdown",
   "metadata": {
    "id": "UOxbsH3lxRJB"
   },
   "source": [
    "### Step 6 : Residual Analysis of the training data "
   ]
  },
  {
   "cell_type": "markdown",
   "metadata": {
    "id": "zKVkhHlIxRJC"
   },
   "source": [
    "So, now to check if the error terms are also normally distributed (which is infact, one of the major assumptions of linear regression), let us plot the histogram of the error terms and see what it looks like."
   ]
  },
  {
   "cell_type": "code",
   "execution_count": null,
   "metadata": {
    "id": "bQomvxO5xRJD"
   },
   "outputs": [],
   "source": [
    "y_train_pred = lr_4.predict(X_train_re)"
   ]
  },
  {
   "cell_type": "code",
   "execution_count": null,
   "metadata": {
    "colab": {
     "base_uri": "https://localhost:8080/",
     "height": 335
    },
    "id": "YdZCWJ2CxRJG",
    "outputId": "32b512d9-c4ae-47b2-873f-cb43f18f5d1b"
   },
   "outputs": [],
   "source": [
    " #Plot the histogram of the error terms\n",
    "fig = plt.figure()\n",
    "sns.distplot((y_train - y_train_pred), bins = 20)\n",
    "fig.suptitle('Error Terms', fontsize = 20)                  \n",
    "plt.xlabel('Errors', fontsize = 18)   "
   ]
  },
  {
   "cell_type": "markdown",
   "metadata": {
    "id": "bWwqO7LFxRJJ"
   },
   "source": [
    "### Step 7 : Making Prediction on the testing data"
   ]
  },
  {
   "cell_type": "code",
   "execution_count": null,
   "metadata": {
    "id": "HZLYM5dyxRJJ"
   },
   "outputs": [],
   "source": [
    "#df_test[Numeric] = scaler.transform(df_test[Numeric])\n",
    "X_test = df_test.drop(['price'],1)\n",
    "y_test = df_test['price']\n",
    "df_test[num_vars] = scaler.transform(df_test[num_vars])"
   ]
  },
  {
   "cell_type": "code",
   "execution_count": null,
   "metadata": {
    "id": "qgVtgfY3xRJO"
   },
   "outputs": [],
   "source": [
    "X_test_new = X_test[['minimum_nights', 'reviews_per_month',\n",
    "        'availability_365', 'feb', 'mar',\n",
    "       'oct', 'Private room', 'Shared room', 'Brooklyn', 'Manhattan', \n",
    "       'Staten Island']]\n",
    "X_test_new = sm.add_constant(X_test_new)\n",
    "y_test_pred = lr_4.predict(X_test_new)\n"
   ]
  },
  {
   "cell_type": "markdown",
   "metadata": {
    "id": "f3g3e-lPxRJS"
   },
   "source": [
    "\n",
    "### Step 8 Model Evaluation "
   ]
  },
  {
   "cell_type": "code",
   "execution_count": null,
   "metadata": {
    "colab": {
     "base_uri": "https://localhost:8080/",
     "height": 335
    },
    "id": "e8y8baBbxRJS",
    "outputId": "5b9bdf6e-3c96-4782-ba59-442f41ea3f5b"
   },
   "outputs": [],
   "source": [
    "# Plotting y_test and y_pred to understand the spread\n",
    "\n",
    "fig = plt.figure()\n",
    "plt.scatter(y_test, y_test_pred)\n",
    "fig.suptitle('y_test vs y_test_pred', fontsize = 20)              # Plot heading \n",
    "plt.xlabel('y_test', fontsize = 18)                          # X-label\n",
    "plt.ylabel('y_test_pred', fontsize = 16)     "
   ]
  },
  {
   "cell_type": "code",
   "execution_count": null,
   "metadata": {
    "colab": {
     "base_uri": "https://localhost:8080/",
     "height": 35
    },
    "id": "aoK50ZPExRJV",
    "outputId": "65667717-a037-4a4c-b8c1-35ade84ab37e"
   },
   "outputs": [],
   "source": [
    "from sklearn.metrics import r2_score,mean_squared_error\n",
    "r2_score( y_test ,y_test_pred)"
   ]
  },
  {
   "cell_type": "code",
   "execution_count": null,
   "metadata": {
    "colab": {
     "base_uri": "https://localhost:8080/",
     "height": 35
    },
    "id": "Xg55__gDxRJY",
    "outputId": "083ddf7c-c7b5-4dfd-9bcf-75497b193602"
   },
   "outputs": [],
   "source": [
    "mse = mean_squared_error(y_test, y_test_pred)\n",
    "mse\n",
    "print('Test RMSE:',np.sqrt(mse))"
   ]
  },
  {
   "cell_type": "markdown",
   "metadata": {
    "id": "63gqw2WIxRJZ"
   },
   "source": [
    "## TESTING DATA "
   ]
  },
  {
   "cell_type": "code",
   "execution_count": null,
   "metadata": {
    "colab": {
     "base_uri": "https://localhost:8080/",
     "height": 305
    },
    "id": "bZMJ72j2xRJb",
    "outputId": "bc279a9a-6ece-47ad-da73-e58c6c9e0fe6"
   },
   "outputs": [],
   "source": [
    "# Importing the testing file\n",
    "df_1 = pd.read_csv('/content/drive/My Drive/Team Rocket/Test.csv')\n",
    "# Looking at the first five rows\n",
    "df_1.head()"
   ]
  },
  {
   "cell_type": "code",
   "execution_count": null,
   "metadata": {
    "colab": {
     "base_uri": "https://localhost:8080/",
     "height": 35
    },
    "id": "18jprztPxRJd",
    "outputId": "7af1f73f-a587-4849-dc28-3fed00e08689"
   },
   "outputs": [],
   "source": [
    "df_1.shape"
   ]
  },
  {
   "cell_type": "code",
   "execution_count": null,
   "metadata": {
    "colab": {
     "base_uri": "https://localhost:8080/",
     "height": 417
    },
    "id": "IQDhKD2FxRJg",
    "outputId": "6cef2133-4b37-46cf-bf37-2cf31c0d2b91"
   },
   "outputs": [],
   "source": [
    "df_1.info()"
   ]
  },
  {
   "cell_type": "code",
   "execution_count": null,
   "metadata": {
    "colab": {
     "base_uri": "https://localhost:8080/",
     "height": 308
    },
    "id": "Prp4zK8DxRJj",
    "outputId": "51815bcf-e612-4218-fe14-c56145bc6558"
   },
   "outputs": [],
   "source": [
    "# columnwise null count for application data\n",
    "df_1.isnull().sum()"
   ]
  },
  {
   "cell_type": "code",
   "execution_count": null,
   "metadata": {
    "id": "KMegkd0XxRJl"
   },
   "outputs": [],
   "source": [
    "# Treating the null values\n",
    "df_1.last_review.value_counts()\n",
    "df_1['last_review'].fillna('2019-06-23',inplace = True)"
   ]
  },
  {
   "cell_type": "code",
   "execution_count": null,
   "metadata": {
    "id": "z8O6vFFcxRJq"
   },
   "outputs": [],
   "source": [
    "df_1.reviews_per_month = df_1.reviews_per_month.fillna(0)"
   ]
  },
  {
   "cell_type": "code",
   "execution_count": null,
   "metadata": {
    "colab": {
     "base_uri": "https://localhost:8080/",
     "height": 308
    },
    "id": "epNZRyqmxRJt",
    "outputId": "14054516-2c64-4634-bb8e-643a058ce744"
   },
   "outputs": [],
   "source": [
    "# Lets check the percentage of null values\n",
    "df_col = round((df_1.isnull().sum()/len(df.index))*100,2)\n",
    "print(\"column wise percentage in rental data\", df_col)"
   ]
  },
  {
   "cell_type": "markdown",
   "metadata": {
    "id": "KQk-8WiZxRJx"
   },
   "source": [
    "### DATA PREPARATION"
   ]
  },
  {
   "cell_type": "code",
   "execution_count": null,
   "metadata": {
    "colab": {
     "base_uri": "https://localhost:8080/",
     "height": 254
    },
    "id": "fLTMrrq1xRJy",
    "outputId": "5b08f90e-62a2-4ce0-bf08-a5fc8d8dca3c"
   },
   "outputs": [],
   "source": [
    "df_1['last_review'] = pd.to_datetime(df_1.last_review,format='%Y-%m-%d')\n",
    "df_1['Months'] = df_1.last_review.dt.strftime('%m')\n",
    "df_1.Months.value_counts()"
   ]
  },
  {
   "cell_type": "code",
   "execution_count": null,
   "metadata": {
    "colab": {
     "base_uri": "https://localhost:8080/",
     "height": 254
    },
    "id": "KnruWH62xRJ2",
    "outputId": "5da62097-5a7b-4213-9311-edf07f0ad7cf"
   },
   "outputs": [],
   "source": [
    "#Lets map the variable Months\n",
    "df_1['Months'] = df_1['Months'].astype(int)\n",
    "df_1['Months'] = df_1['Months'].map({1:'jan',2:'feb',3:'mar', 4:'apr',5:'may',6:'jun', 7:'jul',8:'aug',9:'sep',10 :'oct',11:'nov',12:'dec'})\n",
    "df_1.Months.value_counts()"
   ]
  },
  {
   "cell_type": "code",
   "execution_count": null,
   "metadata": {
    "id": "DrYC9CaVxRJ4"
   },
   "outputs": [],
   "source": [
    "month_dummy = pd.get_dummies(df_1['Months'],drop_first = True)\n",
    "df_1 = pd.concat([df_1,month_dummy], axis =1)\n",
    "\n",
    "room_dummy = pd.get_dummies(df_1['room_type'],drop_first = True)\n",
    "df_1 = pd.concat([df_1,room_dummy], axis =1)\n",
    "\n",
    "neighbourhood_group_dummy = pd.get_dummies(df_1['neighbourhood_group'],drop_first = True)\n",
    "df_1 = pd.concat([df_1,neighbourhood_group_dummy], axis =1)"
   ]
  },
  {
   "cell_type": "code",
   "execution_count": null,
   "metadata": {
    "colab": {
     "base_uri": "https://localhost:8080/",
     "height": 270
    },
    "id": "vQ_qCp8bxRJ8",
    "outputId": "1d792d77-460c-41bb-8ddf-4a0a45320c2a"
   },
   "outputs": [],
   "source": [
    "# Drop month, room_type and neighbourhood_group as we have created the dummies for it\n",
    "\n",
    "df_1 = df_1.drop(['Months','room_type','neighbourhood_group'], axis = 1)\n",
    "df_1.head()"
   ]
  },
  {
   "cell_type": "code",
   "execution_count": null,
   "metadata": {
    "id": "myLuAI_MxRKA"
   },
   "outputs": [],
   "source": [
    "df_1.drop(['id','name','host_name','neighbourhood','last_review'],1,inplace=True)"
   ]
  },
  {
   "cell_type": "code",
   "execution_count": null,
   "metadata": {
    "colab": {
     "base_uri": "https://localhost:8080/",
     "height": 445
    },
    "id": "OA3DmZq7xRKD",
    "outputId": "36ce603c-996d-431e-d485-e6334ff83b6f"
   },
   "outputs": [],
   "source": [
    "#Numeric = ['latitude','longitude','minimum_nights','number_of_reviews','reviews_per_month','calculated_host_listings_count','availability_365']\n",
    "Numeric = ['minimum_nights','number_of_reviews','reviews_per_month','calculated_host_listings_count','availability_365']\n",
    "\n",
    "df_1[Numeric] = np.log1p(df_1[Numeric])\n",
    "df_1\n"
   ]
  },
  {
   "cell_type": "code",
   "execution_count": null,
   "metadata": {
    "colab": {
     "base_uri": "https://localhost:8080/",
     "height": 235
    },
    "id": "nsLq2iDRxRKF",
    "outputId": "39cd4b1e-8afb-4d71-9ef9-45742f2a0ff3"
   },
   "outputs": [],
   "source": [
    "df_1.head()"
   ]
  },
  {
   "cell_type": "code",
   "execution_count": null,
   "metadata": {
    "colab": {
     "base_uri": "https://localhost:8080/",
     "height": 599
    },
    "id": "bYNDKZt51w3S",
    "outputId": "8b594219-34c1-4f1b-b5fa-d569813c802f"
   },
   "outputs": [],
   "source": [
    "df_1.info()"
   ]
  },
  {
   "cell_type": "markdown",
   "metadata": {
    "id": "CDTcDjDLxRKJ"
   },
   "source": [
    "### PREDICTING THE PRICE ON THE TESTING DATA "
   ]
  },
  {
   "cell_type": "code",
   "execution_count": null,
   "metadata": {
    "id": "7TfBDyUIxRKJ"
   },
   "outputs": [],
   "source": [
    "\n",
    "X_testing= df_1[['minimum_nights', 'reviews_per_month',\n",
    "        'availability_365', 'feb', 'mar',\n",
    "       'oct', 'Private room', 'Shared room', 'Brooklyn', 'Manhattan', \n",
    "       'Staten Island']]\n",
    "X_testing = sm.add_constant(X_testing)\n",
    "y_pred = lr_4.predict(X_testing)"
   ]
  },
  {
   "cell_type": "code",
   "execution_count": null,
   "metadata": {
    "colab": {
     "base_uri": "https://localhost:8080/",
     "height": 235
    },
    "id": "HqorDzqMxRKL",
    "outputId": "a6c0a350-8e6e-461e-ba5a-51ea0e577728"
   },
   "outputs": [],
   "source": [
    "y_pred"
   ]
  },
  {
   "cell_type": "markdown",
   "metadata": {
    "id": "397eoU-wxRKN"
   },
   "source": [
    "### 2. Cross Validation with K fold"
   ]
  },
  {
   "cell_type": "code",
   "execution_count": null,
   "metadata": {
    "colab": {
     "base_uri": "https://localhost:8080/",
     "height": 35
    },
    "id": "yj3vuP6HxRKN",
    "outputId": "e347c5d4-d337-40b0-e1e2-65560c27ccd6"
   },
   "outputs": [],
   "source": [
    "import re\n",
    "\n",
    "import sklearn\n",
    "from sklearn.model_selection import train_test_split\n",
    "from sklearn.preprocessing import MinMaxScaler\n",
    "from sklearn.preprocessing import PolynomialFeatures\n",
    "from sklearn.preprocessing import scale\n",
    "from sklearn.feature_selection import RFE\n",
    "from sklearn.linear_model import LinearRegression\n",
    "from sklearn.model_selection import cross_val_score\n",
    "from sklearn.model_selection import KFold\n",
    "from sklearn.model_selection import GridSearchCV\n",
    "from sklearn.pipeline import make_pipeline\n",
    "lm = LinearRegression()\n",
    "scores = cross_val_score(lm,X_train,y_train,scoring = \"r2\" , cv=5)\n",
    "scores"
   ]
  },
  {
   "cell_type": "code",
   "execution_count": null,
   "metadata": {
    "colab": {
     "base_uri": "https://localhost:8080/",
     "height": 35
    },
    "id": "4kuXqVPCxRKR",
    "outputId": "e57d4843-af14-4a52-9ecc-013410612217"
   },
   "outputs": [],
   "source": [
    "scores = cross_val_score(lm,X_train,y_train,scoring = \"neg_mean_squared_error\" , cv=5)\n",
    "scores"
   ]
  },
  {
   "cell_type": "code",
   "execution_count": null,
   "metadata": {
    "colab": {
     "base_uri": "https://localhost:8080/",
     "height": 55
    },
    "id": "9zNHPjaWxRKT",
    "outputId": "ac7c5bb1-f238-46d8-84e5-ea6d7ae19cd6"
   },
   "outputs": [],
   "source": [
    "from sklearn.metrics import SCORERS\n",
    "print(SCORERS.keys())"
   ]
  },
  {
   "cell_type": "markdown",
   "metadata": {
    "id": "1_v_mcpVxRKa"
   },
   "source": [
    "#### Hypertuning using Grid Search Cross Validation "
   ]
  },
  {
   "cell_type": "code",
   "execution_count": null,
   "metadata": {
    "colab": {
     "base_uri": "https://localhost:8080/",
     "height": 35
    },
    "id": "OMv9FLQwxRKa",
    "outputId": "ff645eb8-0e1a-49e7-bf1d-ba4d0a63762a"
   },
   "outputs": [],
   "source": [
    "len(X_train.columns)"
   ]
  },
  {
   "cell_type": "code",
   "execution_count": null,
   "metadata": {
    "colab": {
     "base_uri": "https://localhost:8080/",
     "height": 326
    },
    "id": "-VmXMe0FxRKf",
    "outputId": "18e5e57c-4790-454e-b024-88da04c85b3f"
   },
   "outputs": [],
   "source": [
    "# step-1: create a cross-validation scheme\n",
    "folds = KFold(n_splits = 5, shuffle = True, random_state = 100)\n",
    "\n",
    "# step-2: specify range of hyperparameters to tune\n",
    "hyper_params = [{'n_features_to_select': list(range(1, 26))}]\n",
    "\n",
    "\n",
    "# step-3: perform grid search\n",
    "# 3.1 specify model\n",
    "lm = LinearRegression()\n",
    "lm.fit(X_train, y_train)\n",
    "rfe = RFE(lm)             \n",
    "\n",
    "# 3.2 call GridSearchCV()\n",
    "model_cv = GridSearchCV(estimator = rfe, \n",
    "                        param_grid = hyper_params, \n",
    "                        scoring= 'r2', \n",
    "                        cv = folds, \n",
    "                        verbose = 1,\n",
    "                        return_train_score=True)      \n",
    "\n",
    "# fit the model\n",
    "model_cv.fit(X_train, y_train)                  \n"
   ]
  },
  {
   "cell_type": "code",
   "execution_count": null,
   "metadata": {
    "colab": {
     "base_uri": "https://localhost:8080/",
     "height": 1000
    },
    "id": "v6RaoEOxxRKi",
    "outputId": "bcbb46c7-8023-4fb1-8f83-4911ee9a296f"
   },
   "outputs": [],
   "source": [
    "cv_results = pd.DataFrame(model_cv.cv_results_)\n",
    "cv_results"
   ]
  },
  {
   "cell_type": "code",
   "execution_count": null,
   "metadata": {
    "colab": {
     "base_uri": "https://localhost:8080/",
     "height": 369
    },
    "id": "aZdGAgqsxRKk",
    "outputId": "e4f04c92-164c-406b-e91b-ada00a40e0a5"
   },
   "outputs": [],
   "source": [
    "# plotting cv results\n",
    "plt.figure(figsize=(16,6))\n",
    "\n",
    "plt.plot(cv_results[\"param_n_features_to_select\"], cv_results[\"mean_test_score\"])\n",
    "plt.plot(cv_results[\"param_n_features_to_select\"], cv_results[\"mean_train_score\"])\n",
    "plt.xlabel('number of features')\n",
    "plt.ylabel('r-squared')\n",
    "plt.title(\"Optimal Number of Features\")\n",
    "plt.legend(['test score', 'train score'], loc='upper left')"
   ]
  },
  {
   "cell_type": "code",
   "execution_count": null,
   "metadata": {
    "colab": {
     "base_uri": "https://localhost:8080/",
     "height": 35
    },
    "id": "byH_sQlQxRKn",
    "outputId": "e90edb4d-a24b-4798-bdf8-737263adf0da"
   },
   "outputs": [],
   "source": [
    "# final model\n",
    "n_features_optimal = 16\n",
    "\n",
    "lm = LinearRegression()\n",
    "lm.fit(X_train, y_train)\n",
    "\n",
    "rfe = RFE(lm, n_features_to_select=n_features_optimal)             \n",
    "rfe = rfe.fit(X_train, y_train)\n",
    "\n",
    "# predict prices of X_test\n",
    "y_pred = lm.predict(X_test)\n",
    "r2 = sklearn.metrics.r2_score(y_test, y_pred)\n",
    "print(r2)"
   ]
  },
  {
   "cell_type": "code",
   "execution_count": null,
   "metadata": {
    "colab": {
     "base_uri": "https://localhost:8080/",
     "height": 35
    },
    "id": "96DPITicxRKp",
    "outputId": "adcbb1a5-27a7-4fb9-f2eb-98061679da9d"
   },
   "outputs": [],
   "source": [
    "mse = sklearn.metrics.mean_squared_error(y_test, y_pred)\n",
    "print('Test RMSE:',np.sqrt(mse))\n"
   ]
  },
  {
   "cell_type": "markdown",
   "metadata": {
    "id": "bccMAg4vxRKr"
   },
   "source": [
    "### 3. Random Forest Regression  "
   ]
  },
  {
   "cell_type": "code",
   "execution_count": null,
   "metadata": {
    "id": "REnaFKBFxRKr"
   },
   "outputs": [],
   "source": [
    "from  sklearn.metrics import r2_score\n",
    "from sklearn.tree import DecisionTreeRegressor \n"
   ]
  },
  {
   "cell_type": "code",
   "execution_count": null,
   "metadata": {
    "id": "IDDOMuN8xRKs"
   },
   "outputs": [],
   "source": [
    "dt = DecisionTreeRegressor (random_state =42,max_depth=4,min_samples_leaf =10)"
   ]
  },
  {
   "cell_type": "code",
   "execution_count": null,
   "metadata": {
    "id": "lfrezNY2xRKu"
   },
   "outputs": [],
   "source": [
    "np.random.seed(0)\n",
    "df_train,df_test =train_test_split(df,train_size=0.7,random_state=100)"
   ]
  },
  {
   "cell_type": "code",
   "execution_count": null,
   "metadata": {
    "colab": {
     "base_uri": "https://localhost:8080/",
     "height": 235
    },
    "id": "pnNk_QXhxRKv",
    "outputId": "8ffec073-2c0c-42e6-a5fb-56d1f19e100a"
   },
   "outputs": [],
   "source": [
    "df_test.head()"
   ]
  },
  {
   "cell_type": "code",
   "execution_count": null,
   "metadata": {
    "id": "pIp7PRd_xRKx"
   },
   "outputs": [],
   "source": [
    "scaler=MinMaxScaler()"
   ]
  },
  {
   "cell_type": "code",
   "execution_count": null,
   "metadata": {
    "id": "tpbHcNdWxRK0"
   },
   "outputs": [],
   "source": [
    "y_train= df_train.pop('price')\n",
    "X_train = df_train\n",
    "\n",
    "y_test= df_test.pop('price')\n",
    "X_test= df_test"
   ]
  },
  {
   "cell_type": "code",
   "execution_count": null,
   "metadata": {
    "colab": {
     "base_uri": "https://localhost:8080/",
     "height": 126
    },
    "id": "sW68_yElxRK1",
    "outputId": "12d94fd0-83c3-4dac-e676-47fe3f661d0a"
   },
   "outputs": [],
   "source": [
    "dt.fit(X_train, y_train)"
   ]
  },
  {
   "cell_type": "code",
   "execution_count": null,
   "metadata": {
    "colab": {
     "base_uri": "https://localhost:8080/",
     "height": 201
    },
    "id": "JrQHEG1AxRLC",
    "outputId": "31e82dcc-49cc-4679-ba60-15cff3fceb07"
   },
   "outputs": [],
   "source": [
    "from IPython.display import Image\n",
    "from sklearn.externals.six import StringIO\n",
    "from sklearn.tree import export_graphviz\n",
    "import pydotplus,graphviz\n",
    "\n",
    "dot_data = StringIO()\n",
    "export_graphviz(dt,out_file=dot_data,filled=True,rounded=True,feature_names=X_train.columns)\n",
    "graph = pydotplus.graph_from_dot_data(dot_data.getvalue())\n",
    "Image(graph.create_png())"
   ]
  },
  {
   "cell_type": "code",
   "execution_count": null,
   "metadata": {
    "id": "ofmv_8rBxRLF"
   },
   "outputs": [],
   "source": [
    "y_train_pred=dt.predict(X_train)"
   ]
  },
  {
   "cell_type": "code",
   "execution_count": null,
   "metadata": {
    "colab": {
     "base_uri": "https://localhost:8080/",
     "height": 35
    },
    "id": "JZzg8GhZxRLH",
    "outputId": "534ac7c7-47fe-4848-ac48-aeaa3b7b4403"
   },
   "outputs": [],
   "source": [
    "r2_score(y_train,y_train_pred)"
   ]
  },
  {
   "cell_type": "code",
   "execution_count": null,
   "metadata": {
    "colab": {
     "base_uri": "https://localhost:8080/",
     "height": 35
    },
    "id": "rvdobaX4xRLK",
    "outputId": "9ee5d099-3ff8-455a-9cbd-a0f60adc5cac"
   },
   "outputs": [],
   "source": [
    "mse = mean_squared_error(y_train,y_train_pred)\n",
    "print('Test RMSE:',np.sqrt(mse))"
   ]
  },
  {
   "cell_type": "code",
   "execution_count": null,
   "metadata": {
    "id": "Csto7Uw3xRLN"
   },
   "outputs": [],
   "source": [
    "y_test_pred = dt.predict(X_test)"
   ]
  },
  {
   "cell_type": "code",
   "execution_count": null,
   "metadata": {
    "colab": {
     "base_uri": "https://localhost:8080/",
     "height": 35
    },
    "id": "barM_lQ5xRLV",
    "outputId": "d541c0ca-6fe9-4271-cae6-ba99b502b793"
   },
   "outputs": [],
   "source": [
    "r2_score(y_test,y_test_pred)"
   ]
  },
  {
   "cell_type": "code",
   "execution_count": null,
   "metadata": {
    "colab": {
     "base_uri": "https://localhost:8080/",
     "height": 35
    },
    "id": "D73GAUt-xRLb",
    "outputId": "c28a5ebe-8866-4d98-d37a-e6d48e51de72"
   },
   "outputs": [],
   "source": [
    "mse = mean_squared_error(y_test,y_test_pred)\n",
    "print('Test RMSE:',np.sqrt(mse))"
   ]
  },
  {
   "cell_type": "markdown",
   "metadata": {
    "id": "fGfKdL7kxRLg"
   },
   "source": [
    "### USING RANDOM FOREST"
   ]
  },
  {
   "cell_type": "code",
   "execution_count": null,
   "metadata": {
    "id": "JltLo1dIxRLh"
   },
   "outputs": [],
   "source": [
    "from sklearn.ensemble import RandomForestRegressor"
   ]
  },
  {
   "cell_type": "code",
   "execution_count": null,
   "metadata": {
    "id": "vsP_wIPxxRLj"
   },
   "outputs": [],
   "source": [
    "rf=RandomForestRegressor (random_state = 42,n_jobs=-1,max_depth=5,min_samples_leaf=10)"
   ]
  },
  {
   "cell_type": "code",
   "execution_count": null,
   "metadata": {
    "colab": {
     "base_uri": "https://localhost:8080/",
     "height": 145
    },
    "id": "t8Phov-qxRLl",
    "outputId": "0a848ae9-6a53-4e6d-8529-89dba0fac38d"
   },
   "outputs": [],
   "source": [
    "rf.fit(X_train,y_train)"
   ]
  },
  {
   "cell_type": "code",
   "execution_count": null,
   "metadata": {
    "id": "Ybi_x-_GxRLq"
   },
   "outputs": [],
   "source": [
    "sample_tree=rf.estimators_[10]"
   ]
  },
  {
   "cell_type": "code",
   "execution_count": null,
   "metadata": {
    "colab": {
     "base_uri": "https://localhost:8080/",
     "height": 133
    },
    "id": "ogcpqvJrxRLs",
    "outputId": "169d239b-0620-4a7c-ee11-c08af6c95b05"
   },
   "outputs": [],
   "source": [
    "dot_data = StringIO()\n",
    "export_graphviz(sample_tree,out_file=dot_data,filled=True,rounded=True,feature_names=X_train.columns)\n",
    "graph = pydotplus.graph_from_dot_data(dot_data.getvalue())\n",
    "Image(graph.create_png())"
   ]
  },
  {
   "cell_type": "code",
   "execution_count": null,
   "metadata": {
    "colab": {
     "base_uri": "https://localhost:8080/",
     "height": 35
    },
    "id": "MZnTnRYkxRLu",
    "outputId": "a7b1b04c-5c82-4d0f-9df4-f0e9f9c4a301"
   },
   "outputs": [],
   "source": [
    "y_train_pred=rf.predict(X_train)\n",
    "y_test_pred=rf.predict(X_test)\n",
    "r2_score(y_train,y_train_pred)"
   ]
  },
  {
   "cell_type": "code",
   "execution_count": null,
   "metadata": {
    "colab": {
     "base_uri": "https://localhost:8080/",
     "height": 35
    },
    "id": "I60E10t2xRLx",
    "outputId": "3dc12159-0373-40c3-cdf6-4ce1f62397cf"
   },
   "outputs": [],
   "source": [
    "mse = mean_squared_error(y_train,y_train_pred)\n",
    "print('Test RMSE:',np.sqrt(mse))"
   ]
  },
  {
   "cell_type": "code",
   "execution_count": null,
   "metadata": {
    "colab": {
     "base_uri": "https://localhost:8080/",
     "height": 35
    },
    "id": "nHOBjzHKxRL0",
    "outputId": "beff5045-07c8-4404-a9d0-ff6cbc450f09"
   },
   "outputs": [],
   "source": [
    "r2_score(y_test,y_test_pred)"
   ]
  },
  {
   "cell_type": "code",
   "execution_count": null,
   "metadata": {
    "colab": {
     "base_uri": "https://localhost:8080/",
     "height": 35
    },
    "id": "-Ja47x6dxRL1",
    "outputId": "f4e4a5cb-830d-4e46-fa56-90a971d618ca"
   },
   "outputs": [],
   "source": [
    "mse = mean_squared_error(y_test,y_test_pred)\n",
    "print('Test RMSE:',np.sqrt(mse))"
   ]
  },
  {
   "cell_type": "code",
   "execution_count": null,
   "metadata": {
    "colab": {
     "base_uri": "https://localhost:8080/",
     "height": 145
    },
    "id": "zHUvZY4MxRL6",
    "outputId": "6d81d8a0-2068-4108-dfca-aae7ec83ca5c"
   },
   "outputs": [],
   "source": [
    "rf.feature_importances_"
   ]
  },
  {
   "cell_type": "code",
   "execution_count": null,
   "metadata": {
    "id": "I7PTb3g-xRL9"
   },
   "outputs": [],
   "source": [
    "important_features = pd.DataFrame({\"Varnam\" :X_train.columns,\"Imp\":rf.feature_importances_})"
   ]
  },
  {
   "cell_type": "code",
   "execution_count": null,
   "metadata": {
    "colab": {
     "base_uri": "https://localhost:8080/",
     "height": 258
    },
    "id": "gsT1ewNMxRMA",
    "outputId": "b21ecd41-67fa-432e-d094-e4f07ecc10fa"
   },
   "outputs": [],
   "source": [
    "important_features.sort_values(by='Imp',ascending =False).head(7)"
   ]
  },
  {
   "cell_type": "code",
   "execution_count": null,
   "metadata": {
    "id": "EwdIURRqxRMD"
   },
   "outputs": [],
   "source": []
  },
  {
   "cell_type": "markdown",
   "metadata": {
    "id": "TRQ7fqxHxRMI"
   },
   "source": [
    "### USING XGBoost"
   ]
  },
  {
   "cell_type": "code",
   "execution_count": null,
   "metadata": {
    "id": "g1PqJ2n8xRMJ"
   },
   "outputs": [],
   "source": [
    "from xgboost import XGBRegressor\n",
    "xgb = XGBRegressor(random_state=42)"
   ]
  },
  {
   "cell_type": "code",
   "execution_count": null,
   "metadata": {
    "colab": {
     "base_uri": "https://localhost:8080/",
     "height": 183
    },
    "id": "L3BKdSZfxRMP",
    "outputId": "cf2bf026-f835-4dac-ed88-1e9dc34fc1c0"
   },
   "outputs": [],
   "source": [
    "xgb.fit(X_train,y_train)"
   ]
  },
  {
   "cell_type": "code",
   "execution_count": null,
   "metadata": {
    "id": "DNA8dkg0xRMT"
   },
   "outputs": [],
   "source": [
    "y_pred_xgb = xgb.predict(X_test)"
   ]
  },
  {
   "cell_type": "code",
   "execution_count": null,
   "metadata": {
    "colab": {
     "base_uri": "https://localhost:8080/",
     "height": 35
    },
    "id": "AKymb8ZXxRMW",
    "outputId": "6b38d207-098b-4f33-c6fe-91db440f4636"
   },
   "outputs": [],
   "source": [
    "mse = mean_squared_error(y_test,y_pred_xgb)\n",
    "print('Test RMSE:',np.sqrt(mse))"
   ]
  },
  {
   "cell_type": "code",
   "execution_count": null,
   "metadata": {
    "id": "aJVevbqnxRMf"
   },
   "outputs": [],
   "source": [
    "# A parameter grid for XGBoost\n",
    "param_grid = {\n",
    "        'min_child_weight': [1, 5, 10],\n",
    "        'gamma': [0.5, 1, 1.5, 2, 5],\n",
    "        'subsample': [0.6, 0.8, 1.0],\n",
    "        'colsample_bytree': [0.6, 0.8, 1.0],\n",
    "        'max_depth': [3, 4, 5]\n",
    "        }"
   ]
  },
  {
   "cell_type": "code",
   "execution_count": null,
   "metadata": {
    "id": "IrzuV9yH4Yl9"
   },
   "outputs": [],
   "source": [
    "from sklearn.model_selection import cross_val_score,GridSearchCV,RandomizedSearchCV"
   ]
  },
  {
   "cell_type": "code",
   "execution_count": null,
   "metadata": {
    "id": "mdpEfffaxRMp"
   },
   "outputs": [],
   "source": [
    "xgb = XGBRegressor()\n",
    "\n",
    "grid_xgb = RandomizedSearchCV(xgb, param_grid, n_iter=20,\n",
    "                            n_jobs=-1, verbose=2, cv=3,                            \n",
    "                             random_state=42)"
   ]
  },
  {
   "cell_type": "code",
   "execution_count": null,
   "metadata": {
    "colab": {
     "base_uri": "https://localhost:8080/",
     "height": 546
    },
    "id": "P976myM6xRMw",
    "outputId": "0407257c-721f-4a9e-a0db-e3f0fca06a18"
   },
   "outputs": [],
   "source": [
    "grid_xgb.fit(X_train,\n",
    "         y_train)"
   ]
  },
  {
   "cell_type": "code",
   "execution_count": null,
   "metadata": {
    "colab": {
     "base_uri": "https://localhost:8080/",
     "height": 145
    },
    "id": "w6_MpVsx41jx",
    "outputId": "b5d33e02-4f4d-45d2-87d1-54f8b12fbc52"
   },
   "outputs": [],
   "source": [
    "grid_xgb.best_estimator_"
   ]
  },
  {
   "cell_type": "code",
   "execution_count": null,
   "metadata": {
    "colab": {
     "base_uri": "https://localhost:8080/",
     "height": 55
    },
    "id": "zqYGhBbu41CK",
    "outputId": "8faefebd-076e-4d0e-9aad-5716b8aac0e0"
   },
   "outputs": [],
   "source": [
    "xgb_ht = XGBRegressor(base_score=0.5, booster='gbtree', colsample_bylevel=1,\n",
    "             colsample_bynode=1, colsample_bytree=0.8, gamma=0.5,\n",
    "             importance_type='gain', learning_rate=0.1, max_delta_step=0,\n",
    "             max_depth=5, min_child_weight=1, missing=None, n_estimators=100,\n",
    "             n_jobs=1, nthread=None, objective='reg:linear', random_state=0,\n",
    "             reg_alpha=0, reg_lambda=1, scale_pos_weight=1, seed=None,\n",
    "             silent=None, subsample=1.0, verbosity=1)\n",
    "xgb_ht.fit(X_train,y_train)\n",
    "y_pred_xgb_ht = xgb_ht.predict(X_test)\n",
    "#scores(y_test,y_pred_xgb_ht,'HyperTuned XGBoost')"
   ]
  },
  {
   "cell_type": "code",
   "execution_count": null,
   "metadata": {
    "colab": {
     "base_uri": "https://localhost:8080/",
     "height": 35
    },
    "id": "AnN-OU-b6OOD",
    "outputId": "901ef1cc-5c9d-4eca-bb30-406ecc8f932a"
   },
   "outputs": [],
   "source": [
    "mse = mean_squared_error(y_test,y_pred_xgb_ht)\n",
    "print('Test RMSE:',np.sqrt(mse))"
   ]
  },
  {
   "cell_type": "code",
   "execution_count": null,
   "metadata": {
    "id": "GOT6Gbve40iq"
   },
   "outputs": [],
   "source": [
    "y_pred = xgb_ht.predict(df_1) "
   ]
  },
  {
   "cell_type": "code",
   "execution_count": null,
   "metadata": {
    "colab": {
     "base_uri": "https://localhost:8080/",
     "height": 115
    },
    "id": "HlK6C3vO7h8j",
    "outputId": "ff90714d-d78f-4b09-ba67-bb52d7169ab1"
   },
   "outputs": [],
   "source": [
    "df_1.head(1)"
   ]
  },
  {
   "cell_type": "code",
   "execution_count": null,
   "metadata": {
    "id": "TouGjtkw7ttk"
   },
   "outputs": [],
   "source": []
  },
  {
   "cell_type": "code",
   "execution_count": null,
   "metadata": {
    "id": "oDPQAi-R4z6O"
   },
   "outputs": [],
   "source": [
    "sample_submission = pd.DataFrame(y_pred,df_1.host_id,columns=['price'])\n",
    "sample_submission = np.expm1(sample_submission)"
   ]
  },
  {
   "cell_type": "code",
   "execution_count": null,
   "metadata": {
    "colab": {
     "base_uri": "https://localhost:8080/",
     "height": 228
    },
    "id": "p2tkgHQa8GVn",
    "outputId": "812a0a8c-b4c7-4392-f161-c976c04830d7"
   },
   "outputs": [],
   "source": [
    "sample_submission.head()"
   ]
  },
  {
   "cell_type": "code",
   "execution_count": null,
   "metadata": {
    "colab": {
     "base_uri": "https://localhost:8080/",
     "height": 189
    },
    "id": "GkD12zLaxRMz",
    "outputId": "88346117-d26f-4beb-9f86-0dbed58b6e93"
   },
   "outputs": [],
   "source": [
    "sample_submission.to_csv(\"submission_1.csv\")\n",
    "files.download('submission_1.csv')"
   ]
  },
  {
   "cell_type": "code",
   "execution_count": null,
   "metadata": {
    "colab": {
     "base_uri": "https://localhost:8080/",
     "height": 17
    },
    "id": "15rbSwkD-NDY",
    "outputId": "d33b5ed8-4f59-48b8-e56c-3612d7289474"
   },
   "outputs": [],
   "source": [
    "from google.colab import files\n",
    "\n",
    "sample_submission.to_csv(\"submission_1.csv\")\n",
    "files.download('submission_1.csv')"
   ]
  },
  {
   "cell_type": "markdown",
   "metadata": {
    "id": "zb-OtuXxxRM2"
   },
   "source": [
    "After performing on various algorithm such as  vanilla model and hyperparameter tuning using Grid search and Random Forest,we found that Linear regression  is generating lesser RMSLE value as compare to other models.\n",
    "Model   \n",
    "1. Vanilla Model : RMSE is 0.072 \n",
    "2. K Fold with cross validation :RMSE is 0.0687\n",
    "3. Simple Decision Tree: RMSE is 0.379\n",
    "4. Random Forest : RMSE is 0.379\n",
    "5. XG Boost : RMSE is 0.356"
   ]
  },
  {
   "cell_type": "markdown",
   "metadata": {
    "id": "RGJ7lcrBxRM2"
   },
   "source": [
    "Accordingly we have predicted the price on the GIVEN TEST DATA by running vanilla model. The important features and their interpretation:\n",
    "\n",
    "1. Shared Room  : The corefficent is negative which indicates that with the in reference to apartment , the rental demand of shared room declines with the increase in prices. \n",
    "\n",
    "\n",
    "2. Private Room : Similarly, when compared with the apartment , the rental demand of private room is less.\n",
    "\n",
    "\n",
    "3. Manhathan : The rental demand of Manhathan is more when compared to the Bronx.\n",
    "\n",
    "4. minimum_night: With the incease in  minimum_nights, the price would declines\n",
    "\n",
    "5. feb : In compared to other months, the rental demand declines in the month of feb\n",
    "\n",
    "INTERPRETATION :\n",
    "The above analysis indicates that in order to optimize prices, more investment should be incurred in apartments and Manhathon region. \n",
    "\n"
   ]
  },
  {
   "cell_type": "code",
   "execution_count": null,
   "metadata": {
    "id": "fHH55dF5xRM3"
   },
   "outputs": [],
   "source": []
  },
  {
   "cell_type": "code",
   "execution_count": null,
   "metadata": {
    "id": "N3GA0BRMxRM5"
   },
   "outputs": [],
   "source": []
  },
  {
   "cell_type": "code",
   "execution_count": null,
   "metadata": {
    "id": "ZXSxFmpXxRM7"
   },
   "outputs": [],
   "source": []
  },
  {
   "cell_type": "code",
   "execution_count": null,
   "metadata": {
    "id": "1tCfyQ4TxRM9"
   },
   "outputs": [],
   "source": []
  },
  {
   "cell_type": "code",
   "execution_count": null,
   "metadata": {
    "id": "0QwP0mmHxRM_"
   },
   "outputs": [],
   "source": []
  },
  {
   "cell_type": "code",
   "execution_count": null,
   "metadata": {
    "id": "8lJujHK4xRNB"
   },
   "outputs": [],
   "source": []
  }
 ],
 "metadata": {
  "colab": {
   "collapsed_sections": [
    "8W1YT-kjxRGe"
   ],
   "name": "Updated _Stayz_Rental_Prediction-Copy1.ipynb",
   "provenance": []
  },
  "kernelspec": {
   "display_name": "Python 3",
   "language": "python",
   "name": "python3"
  },
  "language_info": {
   "codemirror_mode": {
    "name": "ipython",
    "version": 3
   },
   "file_extension": ".py",
   "mimetype": "text/x-python",
   "name": "python",
   "nbconvert_exporter": "python",
   "pygments_lexer": "ipython3",
   "version": "3.6.5"
  }
 },
 "nbformat": 4,
 "nbformat_minor": 1
}
